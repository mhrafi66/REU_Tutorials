{
  "nbformat": 4,
  "nbformat_minor": 0,
  "metadata": {
    "colab": {
      "provenance": [],
      "toc_visible": true,
      "gpuType": "T4"
    },
    "kernelspec": {
      "name": "python3",
      "display_name": "Python 3"
    },
    "language_info": {
      "name": "python"
    },
    "accelerator": "GPU"
  },
  "cells": [
    {
      "cell_type": "markdown",
      "source": [
        "# REU - Machine Learning Tutorial\n",
        "### Lecture - 1\n",
        "### Prepared By - Mumtahin Habib"
      ],
      "metadata": {
        "id": "UZwAaHLiLI1S"
      }
    },
    {
      "cell_type": "markdown",
      "source": [
        "# How to setup Python, Anaconda and Jupyter Notebook"
      ],
      "metadata": {
        "id": "mHvaR5Cto_VA"
      }
    },
    {
      "cell_type": "markdown",
      "source": [
        "Tutorial: [How to download and install python, anaconda and jupyter notebook](https://www.youtube.com/watch?v=WUeBzT43JyY&t=501s)\n",
        "\n",
        "\n",
        "**Steps to Install:**\n",
        "\n",
        "*  Download respective version of anaconda suitable for your system from [the link](https://www.anaconda.com/download/success).\n",
        "\n",
        "*  Run the installer file and install the Anaconda software. **In Advanced installation options**: a) It is recommended to add Anaconda as your default Python b) **Don't add Anaconda to your PATH variable**\n",
        "\n",
        "*  Open **Anaconda Navigator Application** app and Launch your Jupyter Notebook IDE\n",
        "\n",
        "\n",
        "\n",
        "\n",
        "**How to Install a library:**\n",
        "\n",
        "*  Open **Anaconda Prompt**\n",
        "\n",
        "*  Search in Google for the respective library installation command for Windows and paste it into the command prompt. For example: To install the numpy library, the command is: \"**`conda install numpy`**\".\n"
      ],
      "metadata": {
        "id": "sE-jh7VNGxKG"
      }
    },
    {
      "cell_type": "markdown",
      "source": [
        "#How to create conda Environment"
      ],
      "metadata": {
        "id": "HhHAQWMZ9CcT"
      }
    },
    {
      "cell_type": "markdown",
      "source": [
        "Tutorial: [How to create anaconda environment](https://www.youtube.com/watch?v=rUsk8q7V8bg)\n",
        "\n",
        "\n",
        "**Steps:**\n",
        "*  Open **Anaconda Prompt**\n",
        "\n",
        "*  Use command \"**`conda env list`**\" to get existing environment list.\n",
        "\n",
        "*  Create the anaconda environment with your desired python version using the following format: \"**`conda create -n ENVIRONMENT_NAME python=PYTHON_VERSION ipykernel`**\". For example: The command \"**`conda create -n newEnv python=3.11 ipykernel`**\" will create a conda environment named **`newEnv`**, and install python version 3.11 and a kernel named ipykernel inside the environment.\n",
        "\n",
        "*  Activate the environment with command **\"`conda activate ENVIRONMENT_NAME`\"**\n",
        "\n",
        "*  Install the Jupyter Notebook inside the environment with the command **\"`conda install notebook`\"**.\n",
        "\n",
        "*  [Optional] Attach the installed notebook with the ipykernel inside the environment with command: **\"`python -m ipykernel install --user --name=ENVIRONMENT_NAME`\"**\n",
        "\n",
        "\n",
        "**Next time to use Jupyter Notebook:**\n",
        "\n",
        "* Activate the environment in the Anaconda Prompt with the command **\"`conda activate ENVIRONMENT_NAME`\"**.\n",
        "\n",
        "* Type **\"`jupyter notebook`\"** to open the notebook."
      ],
      "metadata": {
        "id": "Wmr1_tdE9HS8"
      }
    },
    {
      "cell_type": "markdown",
      "source": [
        "#List of some essential libraries to install"
      ],
      "metadata": {
        "id": "gWEv5uuqpVsJ"
      }
    },
    {
      "cell_type": "markdown",
      "source": [
        "\n",
        "\n",
        "*   numpy\n",
        "*   pandas\n",
        "*   scikit-learn\n",
        "*   matplotlib\n",
        "\n"
      ],
      "metadata": {
        "id": "iUNWPaHdpanl"
      }
    },
    {
      "cell_type": "markdown",
      "source": [
        "#How to install Pytorch"
      ],
      "metadata": {
        "id": "C0TG2ySLptJ-"
      }
    },
    {
      "cell_type": "markdown",
      "source": [
        "*   At first download CUDA toolkit from [this link](https://developer.nvidia.com/cuda-downloads) and cuDNN from [this link](https://developer.nvidia.com/rdp/cudnn-archive). I do strongly recommend you follow [this tutorial](https://www.youtube.com/watch?v=r7Am-ZGMef8) to setup CUDA.\n",
        "*   Visit [this link](https://pytorch.org/get-started/locally/) to get command and paste it in your Anaconda Prompt"
      ],
      "metadata": {
        "id": "_5RuA9r3qXE1"
      }
    },
    {
      "cell_type": "markdown",
      "source": [
        "#How to use on Google Colab"
      ],
      "metadata": {
        "id": "9uEAa1tNsvMO"
      }
    },
    {
      "cell_type": "markdown",
      "source": [
        "All you need to have a gmail account and visit [Google Colab](https://colab.research.google.com/)"
      ],
      "metadata": {
        "id": "3rbb5SjGs18h"
      }
    },
    {
      "cell_type": "markdown",
      "source": [
        "#How to setup your account on CHPC"
      ],
      "metadata": {
        "id": "CxKYQ8xo0KSu"
      }
    },
    {
      "cell_type": "markdown",
      "source": [
        "**Setting up CHPC account and VSCode:**\n",
        "*  Make a CHPC account if you don't have one already by following [this link](https://www.chpc.utah.edu/userservices/accounts.php)\n",
        "\n",
        "*  Download and install Visual Studio Code (VS Code) from [this link](https://code.visualstudio.com/). If needed, familiarize yourself with VSCode Terminal: [Integrated Terminal in Visual Studio Code](https://code.visualstudio.com/docs/terminal/basics) and if not familiar with the shell, scripting, and command-line environment check corresponding lectures here: [The Missing Semester of Your CS Education](https://missing.csail.mit.edu/)\n",
        "\n",
        "*  From the \"Extension\" of VSCode, make sure to install \"**remote - ssh**\"\n",
        "\n",
        "*  In VSCode, follow **Remote Explorer -> REMOTES -> SSH -> New Remote**. Input \"**ssh <your uNID@notchpeak2.chpc.utah.edu**\". Select config. Then select platform to use, I do suggest to use Linux for our tutorial.\n",
        "\n",
        "*  Follow **Explorer->Open Folder** where all of your files will be stored in.\n",
        "\n",
        "\n",
        "**Installation of Miniconda:**\n",
        "*  Similar to anaconda in Local Machine, we will use miniconda in CHPC. You can follow [miniconda documentaion](https://docs.anaconda.com/free/miniconda/). In our tutorial, we will use python 3.11.\n",
        "\n",
        "*  Open the terminal. Download the Miniconda installer using wget or curl. For the latest installer, use the following command: **\"`wget https://repo.anaconda.com/miniconda/Miniconda3-latest-Linux-x86_64.sh`\"**\n",
        "\n",
        "*  Make the installer executable with **\"`chmod +x Miniconda3-latest-Linux-x86_64.sh`\"** and Run the installer: **\"`./Miniconda3-latest-Linux-x86_64.sh`\"**. Follow the prompts on the screen to complete the installation. The default options are generally fine.\n",
        "\n",
        "*  Use the command **`source ~/miniconda3/etc/profile.d/conda.sh`** to set the system variable of conda.\n",
        "\n",
        "*  After the installation is complete, initialize Miniconda: **\"`~/miniconda3/bin/conda init`\"**\n",
        "\n",
        "*  Create a new conda environment specifying Python 3.11: **\"`conda create --name ENVIRONMENT_NAME python=3.11`\"** and activate the environment: **\"`conda activate ENVIRONMENT_NAME`\"**. Verify the Python Version: **\"`python --version`\"**.\n",
        "\n",
        "**Installation of Pytorch:**\n",
        "*  For GPU support we need cuda drivers. Luckily for us, CHPC folks installed for use we just need to do a few easy steps. Run following three commands to install cuda driver 11.8:\n",
        "\n",
        "--> **\"`module spider cuda`\"** #which cuda drivers are available through the module list  \n",
        "--> **\"`module load cuda/11.8.0`\"** #load cuda 11.8\n",
        "--> **\"`module list`\"**# run to see that cuda is loaded  \n",
        "Finally, type **`which nvcc`** to check the cuda version installed.\n",
        "\n",
        "*  To install pytorch, generate necessary command from [this link](https://pytorch.org/get-started/locally/). For our tutorial, you can use the command: \"**`conda install pytorch torchvision torchaudio pytorch-cuda=11.8 -c pytorch -c nvidia`**\"\n",
        "\n",
        "**Run a Script in CHPC:**\n",
        "*  create a folder and drop your python script (.py extension) in the folder.\n",
        "*  create a slurm script run.sh in the folder. also create a requirements.txt  file containing the name of required libraries. The sample slurm script and requirements.txt file can be found [here](https://drive.google.com/drive/folders/1V7hSwzzFDRXh4Ggp84h6-td5SAgjEdpx?usp=sharing). **Note: run `myallocation` command on your terminal and change the value of two variables: \"#SBATCH --account\" and \"#SBATCH --partition\" accordingly in run.sh file. Moreover, edit and append your environment name after \"conda activate\".**\n",
        "*  From the terminal use **`cd`** into your repository, and run **`conda install -r requirements.txt`**\n",
        "\n",
        "*  run the slurm script with the command **`sbatch run.sh`** and check the progress with command **`squeue -u <your uNID>`**"
      ],
      "metadata": {
        "id": "JQ1ElqmU0M9R"
      }
    },
    {
      "cell_type": "markdown",
      "source": [
        "#Vectors and Tensors"
      ],
      "metadata": {
        "id": "XcL8dl_Gihs5"
      }
    },
    {
      "cell_type": "markdown",
      "source": [
        "![1_YJ-dvX4aRONz0wGdUDR92w.gif](data:image/gif;base64,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)"
      ],
      "metadata": {
        "id": "FWExoYTiyxJo"
      }
    },
    {
      "cell_type": "markdown",
      "source": [
        "# Operations on PyTorch tensors (and NumPy arrays)"
      ],
      "metadata": {
        "id": "oSoAsXHMA8wS"
      }
    },
    {
      "cell_type": "code",
      "source": [
        "import torch\n",
        "import numpy as np"
      ],
      "metadata": {
        "id": "t-k64_HMx6fJ"
      },
      "execution_count": null,
      "outputs": []
    },
    {
      "cell_type": "markdown",
      "source": [
        "## PyTorch Tensor"
      ],
      "metadata": {
        "id": "vq6HWzu0HOVW"
      }
    },
    {
      "cell_type": "markdown",
      "source": [
        "### Creating Tensors"
      ],
      "metadata": {
        "id": "Isz3dgkKEA-P"
      }
    },
    {
      "cell_type": "code",
      "source": [
        "x = torch.empty(3, 4)\n",
        "print(type(x))\n",
        "print(x)"
      ],
      "metadata": {
        "colab": {
          "base_uri": "https://localhost:8080/"
        },
        "id": "hW0jl9HCEATu",
        "outputId": "1aa40398-f47b-4e63-b647-c6d6566b3c7d"
      },
      "execution_count": null,
      "outputs": [
        {
          "output_type": "stream",
          "name": "stdout",
          "text": [
            "<class 'torch.Tensor'>\n",
            "tensor([[2.6071e+20, 1.6745e+19, 7.3909e+22, 3.0313e+32],\n",
            "        [6.7994e+22, 4.8617e+30, 8.1588e-33, 1.3563e-19],\n",
            "        [6.8575e+22, 4.6114e+24, 3.1842e-15, 3.0820e+32]])\n"
          ]
        }
      ]
    },
    {
      "cell_type": "code",
      "source": [
        "zeros = torch.zeros(2, 3)\n",
        "print(zeros)\n",
        "\n",
        "ones = torch.ones(2, 3)\n",
        "print(ones)"
      ],
      "metadata": {
        "colab": {
          "base_uri": "https://localhost:8080/"
        },
        "id": "fjSz3IIlEAQo",
        "outputId": "de1ab608-5077-403d-8445-c30720512703"
      },
      "execution_count": null,
      "outputs": [
        {
          "output_type": "stream",
          "name": "stdout",
          "text": [
            "tensor([[0., 0., 0.],\n",
            "        [0., 0., 0.]])\n",
            "tensor([[1., 1., 1.],\n",
            "        [1., 1., 1.]])\n"
          ]
        }
      ]
    },
    {
      "cell_type": "code",
      "source": [
        "torch.manual_seed(1729)\n",
        "random = torch.rand(2, 3)\n",
        "print(random)"
      ],
      "metadata": {
        "colab": {
          "base_uri": "https://localhost:8080/"
        },
        "id": "Ia63zIbzEAN6",
        "outputId": "a12360c4-5976-4bf0-d6ec-d61f5fed247f"
      },
      "execution_count": null,
      "outputs": [
        {
          "output_type": "stream",
          "name": "stdout",
          "text": [
            "tensor([[0.3126, 0.3791, 0.3087],\n",
            "        [0.0736, 0.4216, 0.0691]])\n"
          ]
        }
      ]
    },
    {
      "cell_type": "markdown",
      "source": [
        "### Tensor Shapes"
      ],
      "metadata": {
        "id": "QgFu4jIuHdew"
      }
    },
    {
      "cell_type": "markdown",
      "source": [
        "Often, when you’re performing operations on two or more tensors, they will need to be of the same shape - that is, having the same number of dimensions and the same number of cells in each dimension. For that, we have the torch.*_like() methods:"
      ],
      "metadata": {
        "id": "KpcXvEVdHrWr"
      }
    },
    {
      "cell_type": "code",
      "source": [
        "x = torch.empty(2, 2, 3)\n",
        "print(x.shape)\n",
        "print(x)\n",
        "\n",
        "empty_like_x = torch.empty_like(x)\n",
        "print(empty_like_x.shape)\n",
        "print(empty_like_x)\n",
        "\n",
        "zeros_like_x = torch.zeros_like(x)\n",
        "print(zeros_like_x.shape)\n",
        "print(zeros_like_x)\n",
        "\n",
        "ones_like_x = torch.ones_like(x)\n",
        "print(ones_like_x.shape)\n",
        "print(ones_like_x)\n",
        "\n",
        "rand_like_x = torch.rand_like(x)\n",
        "print(rand_like_x.shape)\n",
        "print(rand_like_x)"
      ],
      "metadata": {
        "colab": {
          "base_uri": "https://localhost:8080/"
        },
        "id": "grQcXLwSHkcX",
        "outputId": "ffa2b8f2-3649-483b-b60d-c555c7f689ef"
      },
      "execution_count": null,
      "outputs": [
        {
          "output_type": "stream",
          "name": "stdout",
          "text": [
            "torch.Size([2, 2, 3])\n",
            "tensor([[[-4.2985e-13,  3.3193e-41, -0.0000e+00],\n",
            "         [ 1.6895e+00, -2.0000e+00,  1.6543e+00]],\n",
            "\n",
            "        [[ 0.0000e+00,  1.3972e+00,  2.0000e+00],\n",
            "         [ 1.7108e+00,  0.0000e+00,  1.3881e+00]]])\n",
            "torch.Size([2, 2, 3])\n",
            "tensor([[[1.4663e+21, 3.3186e-41, 2.3651e-05],\n",
            "         [4.4214e-41, 0.0000e+00, 0.0000e+00]],\n",
            "\n",
            "        [[0.0000e+00, 0.0000e+00, 0.0000e+00],\n",
            "         [0.0000e+00, 0.0000e+00, 0.0000e+00]]])\n",
            "torch.Size([2, 2, 3])\n",
            "tensor([[[0., 0., 0.],\n",
            "         [0., 0., 0.]],\n",
            "\n",
            "        [[0., 0., 0.],\n",
            "         [0., 0., 0.]]])\n",
            "torch.Size([2, 2, 3])\n",
            "tensor([[[1., 1., 1.],\n",
            "         [1., 1., 1.]],\n",
            "\n",
            "        [[1., 1., 1.],\n",
            "         [1., 1., 1.]]])\n",
            "torch.Size([2, 2, 3])\n",
            "tensor([[[0.2332, 0.4047, 0.2162],\n",
            "         [0.9927, 0.4128, 0.5938]],\n",
            "\n",
            "        [[0.6128, 0.1519, 0.0453],\n",
            "         [0.5035, 0.9978, 0.3884]]])\n"
          ]
        }
      ]
    },
    {
      "cell_type": "markdown",
      "source": [
        "### Tensor Data Types"
      ],
      "metadata": {
        "id": "2hFZQ8AiH6wm"
      }
    },
    {
      "cell_type": "code",
      "source": [
        "a = torch.ones((2, 3), dtype=torch.int16)\n",
        "print(a)\n",
        "\n",
        "b = torch.rand((2, 3), dtype=torch.float64) * 20.\n",
        "print(b)\n",
        "\n",
        "c = b.to(torch.int32)\n",
        "print(c)"
      ],
      "metadata": {
        "colab": {
          "base_uri": "https://localhost:8080/"
        },
        "id": "m_kvjeCyH5nm",
        "outputId": "baebfee9-f4e6-4c56-d7c9-bdced7aaa01d"
      },
      "execution_count": null,
      "outputs": [
        {
          "output_type": "stream",
          "name": "stdout",
          "text": [
            "tensor([[1, 1, 1],\n",
            "        [1, 1, 1]], dtype=torch.int16)\n",
            "tensor([[10.8626,  2.1505, 19.6913],\n",
            "        [ 0.9956,  1.4148,  5.8364]], dtype=torch.float64)\n",
            "tensor([[10,  2, 19],\n",
            "        [ 0,  1,  5]], dtype=torch.int32)\n"
          ]
        }
      ]
    },
    {
      "cell_type": "markdown",
      "source": [
        "### Elementwise Mathematical Operations"
      ],
      "metadata": {
        "id": "4cPuow1KIqS_"
      }
    },
    {
      "cell_type": "code",
      "source": [
        "ones = torch.zeros(2, 2) + 1\n",
        "twos = torch.ones(2, 2) * 2\n",
        "threes = (torch.ones(2, 2) * 7 - 1) / 2\n",
        "fours = twos ** 2\n",
        "sqrt2s = twos ** 0.5\n",
        "\n",
        "print(ones)\n",
        "print(twos)\n",
        "print(threes)\n",
        "print(fours)\n",
        "print(sqrt2s)"
      ],
      "metadata": {
        "colab": {
          "base_uri": "https://localhost:8080/"
        },
        "id": "cgNzLcMcH6ft",
        "outputId": "dce30454-ab63-4aa1-99c6-496831b89a44"
      },
      "execution_count": null,
      "outputs": [
        {
          "output_type": "stream",
          "name": "stdout",
          "text": [
            "tensor([[1., 1.],\n",
            "        [1., 1.]])\n",
            "tensor([[2., 2.],\n",
            "        [2., 2.]])\n",
            "tensor([[3., 3.],\n",
            "        [3., 3.]])\n",
            "tensor([[4., 4.],\n",
            "        [4., 4.]])\n",
            "tensor([[1.4142, 1.4142],\n",
            "        [1.4142, 1.4142]])\n"
          ]
        }
      ]
    },
    {
      "cell_type": "markdown",
      "source": [
        "As you can see above, arithmetic operations between tensors and scalars, such as addition, subtraction, multiplication, division, and exponentiation are distributed over every element of the tensor. Because the output of such an operation will be a tensor, you can chain them together with the usual operator precedence rules, as in the line where we create threes."
      ],
      "metadata": {
        "id": "seAgBQD0I4q2"
      }
    },
    {
      "cell_type": "code",
      "source": [
        "powers2 = twos ** torch.tensor([[1, 2], [3, 4]])\n",
        "print(powers2)\n",
        "\n",
        "fives = ones + fours\n",
        "print(fives)\n",
        "\n",
        "dozens = threes * fours\n",
        "print(dozens)"
      ],
      "metadata": {
        "colab": {
          "base_uri": "https://localhost:8080/"
        },
        "id": "3-orOIuiH6dU",
        "outputId": "5286504f-ffc8-4f99-c3ae-bb23495af961"
      },
      "execution_count": null,
      "outputs": [
        {
          "output_type": "stream",
          "name": "stdout",
          "text": [
            "tensor([[ 2.,  4.],\n",
            "        [ 8., 16.]])\n",
            "tensor([[5., 5.],\n",
            "        [5., 5.]])\n",
            "tensor([[12., 12.],\n",
            "        [12., 12.]])\n"
          ]
        }
      ]
    },
    {
      "cell_type": "markdown",
      "source": [
        "### More Math with Tensors"
      ],
      "metadata": {
        "id": "IkZ_lsaeJXIL"
      }
    },
    {
      "cell_type": "code",
      "source": [
        "# common functions\n",
        "a = torch.rand(2, 4) * 2 - 1\n",
        "print('Common functions:')\n",
        "print(torch.abs(a))\n",
        "print(torch.ceil(a))\n",
        "print(torch.floor(a))\n",
        "print(torch.clamp(a, -0.5, 0.5))"
      ],
      "metadata": {
        "colab": {
          "base_uri": "https://localhost:8080/"
        },
        "id": "2A6hnul1H6ZQ",
        "outputId": "9f8a2a06-13a8-4b65-e08f-a8824b48afe4"
      },
      "execution_count": null,
      "outputs": [
        {
          "output_type": "stream",
          "name": "stdout",
          "text": [
            "Common functions:\n",
            "tensor([[0.8595, 0.0210, 0.8901, 0.5283],\n",
            "        [0.6041, 0.3345, 0.2291, 0.1998]])\n",
            "tensor([[-0., 1., 1., -0.],\n",
            "        [-0., -0., 1., 1.]])\n",
            "tensor([[-1.,  0.,  0., -1.],\n",
            "        [-1., -1.,  0.,  0.]])\n",
            "tensor([[-0.5000,  0.0210,  0.5000, -0.5000],\n",
            "        [-0.5000, -0.3345,  0.2291,  0.1998]])\n"
          ]
        }
      ]
    },
    {
      "cell_type": "code",
      "source": [
        "import math\n",
        "\n",
        "# trigonometric functions and their inverses\n",
        "angles = torch.tensor([0, math.pi / 4, math.pi / 2, 3 * math.pi / 4])\n",
        "sines = torch.sin(angles)\n",
        "inverses = torch.asin(sines)\n",
        "print('\\nSine and arcsine:')\n",
        "print(angles)\n",
        "print(sines)\n",
        "print(inverses)"
      ],
      "metadata": {
        "colab": {
          "base_uri": "https://localhost:8080/"
        },
        "id": "GZEL4EoUJcbS",
        "outputId": "4da41ad8-b52b-41ba-ff7c-6412f68c31f3"
      },
      "execution_count": null,
      "outputs": [
        {
          "output_type": "stream",
          "name": "stdout",
          "text": [
            "\n",
            "Sine and arcsine:\n",
            "tensor([0.0000, 0.7854, 1.5708, 2.3562])\n",
            "tensor([0.0000, 0.7071, 1.0000, 0.7071])\n",
            "tensor([0.0000, 0.7854, 1.5708, 0.7854])\n"
          ]
        }
      ]
    },
    {
      "cell_type": "code",
      "source": [
        "# bitwise operations\n",
        "print('\\nBitwise XOR:')\n",
        "b = torch.tensor([1, 5, 11])\n",
        "c = torch.tensor([2, 7, 10])\n",
        "print(torch.bitwise_xor(b, c))"
      ],
      "metadata": {
        "colab": {
          "base_uri": "https://localhost:8080/"
        },
        "id": "jacKEOl9JcX1",
        "outputId": "383f7093-46fc-42ab-cadf-30cfa6a4f1f8"
      },
      "execution_count": null,
      "outputs": [
        {
          "output_type": "stream",
          "name": "stdout",
          "text": [
            "\n",
            "Bitwise XOR:\n",
            "tensor([3, 2, 1])\n"
          ]
        }
      ]
    },
    {
      "cell_type": "code",
      "source": [
        "# comparisons:\n",
        "print('\\nBroadcasted, element-wise equality comparison:')\n",
        "d = torch.tensor([[1., 2.], [3., 4.]])\n",
        "e = torch.ones(1, 2)  # many comparison ops support broadcasting!\n",
        "print(torch.eq(d, e)) # returns a tensor of type bool"
      ],
      "metadata": {
        "colab": {
          "base_uri": "https://localhost:8080/"
        },
        "id": "XhP9JgzwJo1G",
        "outputId": "be611bf7-c2ec-4482-ccec-68721389331a"
      },
      "execution_count": null,
      "outputs": [
        {
          "output_type": "stream",
          "name": "stdout",
          "text": [
            "\n",
            "Broadcasted, element-wise equality comparison:\n",
            "tensor([[ True, False],\n",
            "        [False, False]])\n"
          ]
        }
      ]
    },
    {
      "cell_type": "code",
      "source": [
        "# reductions:\n",
        "print('\\nReduction ops:')\n",
        "print(torch.max(d))        # returns a single-element tensor\n",
        "print(torch.max(d).item()) # extracts the value from the returned tensor\n",
        "print(torch.mean(d))       # average\n",
        "print(torch.std(d))        # standard deviation\n",
        "print(torch.prod(d))       # product of all numbers\n",
        "print(torch.unique(torch.tensor([1, 2, 1, 2, 1, 2]))) # filter unique elements"
      ],
      "metadata": {
        "colab": {
          "base_uri": "https://localhost:8080/"
        },
        "id": "RS0EhBhsJoyB",
        "outputId": "9aa3de7b-e194-429a-d1c7-7a2f30009a3f"
      },
      "execution_count": null,
      "outputs": [
        {
          "output_type": "stream",
          "name": "stdout",
          "text": [
            "\n",
            "Reduction ops:\n",
            "tensor(4.)\n",
            "4.0\n",
            "tensor(2.5000)\n",
            "tensor(1.2910)\n",
            "tensor(24.)\n",
            "tensor([1, 2])\n"
          ]
        }
      ]
    },
    {
      "cell_type": "code",
      "source": [
        "# vector and linear algebra operations\n",
        "v1 = torch.tensor([1., 0., 0.])         # x unit vector\n",
        "v2 = torch.tensor([0., 1., 0.])         # y unit vector\n",
        "m1 = torch.rand(2, 2)                   # random matrix\n",
        "m2 = torch.tensor([[3., 0.], [0., 3.]]) # three times identity matrix\n",
        "\n",
        "print('\\nVectors & Matrices:')\n",
        "print(torch.cross(v2, v1)) # negative of z unit vector (v1 x v2 == -v2 x v1)\n",
        "print(m1)\n",
        "m3 = torch.matmul(m1, m2)\n",
        "print(m3)                  # 3 times m1\n",
        "print(torch.svd(m3))       # singular value decomposition"
      ],
      "metadata": {
        "colab": {
          "base_uri": "https://localhost:8080/"
        },
        "id": "mOL6kBMcJoug",
        "outputId": "17c0343c-2327-433e-cd82-2bb9f11aaa95"
      },
      "execution_count": null,
      "outputs": [
        {
          "output_type": "stream",
          "name": "stdout",
          "text": [
            "\n",
            "Vectors & Matrices:\n",
            "tensor([ 0.,  0., -1.])\n",
            "tensor([[0.5013, 0.9397],\n",
            "        [0.8656, 0.5207]])\n",
            "tensor([[1.5040, 2.8190],\n",
            "        [2.5968, 1.5620]])\n",
            "torch.return_types.svd(\n",
            "U=tensor([[-0.7286, -0.6850],\n",
            "        [-0.6850,  0.7286]]),\n",
            "S=tensor([4.2450, 1.1711]),\n",
            "V=tensor([[-0.6771,  0.7358],\n",
            "        [-0.7358, -0.6771]]))\n"
          ]
        },
        {
          "output_type": "stream",
          "name": "stderr",
          "text": [
            "<ipython-input-14-7c74e2e7fd8d>:8: UserWarning: Using torch.cross without specifying the dim arg is deprecated.\n",
            "Please either pass the dim explicitly or simply use torch.linalg.cross.\n",
            "The default value of dim will change to agree with that of linalg.cross in a future release. (Triggered internally at ../aten/src/ATen/native/Cross.cpp:62.)\n",
            "  print(torch.cross(v2, v1)) # negative of z unit vector (v1 x v2 == -v2 x v1)\n"
          ]
        }
      ]
    },
    {
      "cell_type": "markdown",
      "source": [
        "### Copying Tensors"
      ],
      "metadata": {
        "id": "WuwxZyhQKW5V"
      }
    },
    {
      "cell_type": "markdown",
      "source": [
        "As with any object in Python, assigning a tensor to a variable makes the variable a label of the tensor, and does not copy it. For example:"
      ],
      "metadata": {
        "id": "Z_I_yaa0KaVW"
      }
    },
    {
      "cell_type": "code",
      "source": [
        "a = torch.ones(2, 2)\n",
        "b = a\n",
        "\n",
        "a[0][1] = 561  # we change a...\n",
        "print(b)       # ...and b is also altered"
      ],
      "metadata": {
        "colab": {
          "base_uri": "https://localhost:8080/"
        },
        "id": "cFwY6vQQKFzg",
        "outputId": "7a8efd65-ce5b-47c2-cf8d-23558a09acc2"
      },
      "execution_count": null,
      "outputs": [
        {
          "output_type": "stream",
          "name": "stdout",
          "text": [
            "tensor([[  1., 561.],\n",
            "        [  1.,   1.]])\n"
          ]
        }
      ]
    },
    {
      "cell_type": "markdown",
      "source": [
        "But what if you want a separate copy of the data to work on? The clone() method is there for you:"
      ],
      "metadata": {
        "id": "OyTGu_YBKfeR"
      }
    },
    {
      "cell_type": "code",
      "source": [
        "a = torch.ones(2, 2)\n",
        "b = a.clone()\n",
        "\n",
        "assert b is not a      # different objects in memory...\n",
        "print(torch.eq(a, b))  # ...but still with the same contents!\n",
        "\n",
        "a[0][1] = 561          # a changes...\n",
        "print(b)               # ...but b is still all ones"
      ],
      "metadata": {
        "colab": {
          "base_uri": "https://localhost:8080/"
        },
        "id": "q8uhf_rWKFwt",
        "outputId": "2a035dc5-05b8-4dea-fa75-c4e0f49ac855"
      },
      "execution_count": null,
      "outputs": [
        {
          "output_type": "stream",
          "name": "stdout",
          "text": [
            "tensor([[True, True],\n",
            "        [True, True]])\n",
            "tensor([[1., 1.],\n",
            "        [1., 1.]])\n"
          ]
        }
      ]
    },
    {
      "cell_type": "markdown",
      "source": [
        "### Moving to GPU"
      ],
      "metadata": {
        "id": "G3ZoLIKrKyVN"
      }
    },
    {
      "cell_type": "markdown",
      "source": [
        "One of the major advantages of PyTorch is its robust acceleration on CUDA-compatible Nvidia GPUs. (“CUDA” stands for Compute Unified Device Architecture, which is Nvidia’s platform for parallel computing.) So far, everything we’ve done has been on CPU. How do we move to the faster hardware?\n",
        "\n",
        "First, we should check whether a GPU is available, with the is_available() method."
      ],
      "metadata": {
        "id": "LHuGY6EvLBeD"
      }
    },
    {
      "cell_type": "code",
      "source": [
        "if torch.cuda.is_available():\n",
        "    print('We have a GPU!')\n",
        "else:\n",
        "    print('Sorry, CPU only.')"
      ],
      "metadata": {
        "colab": {
          "base_uri": "https://localhost:8080/"
        },
        "id": "xY2Xktn-JcUr",
        "outputId": "4b934be3-755c-4ea4-8317-436f5996ff72"
      },
      "execution_count": null,
      "outputs": [
        {
          "output_type": "stream",
          "name": "stdout",
          "text": [
            "We have a GPU!\n"
          ]
        }
      ]
    },
    {
      "cell_type": "code",
      "source": [
        "if torch.cuda.is_available():\n",
        "    my_device = torch.device('cuda')\n",
        "else:\n",
        "    my_device = torch.device('cpu')\n",
        "print('Device: {}'.format(my_device))\n",
        "\n",
        "x = torch.rand(2, 2, device=my_device)\n",
        "print(x)"
      ],
      "metadata": {
        "colab": {
          "base_uri": "https://localhost:8080/"
        },
        "id": "2pzmdu_zJcR7",
        "outputId": "774d443e-e8f5-40a7-ccbf-31434c6a12ac"
      },
      "execution_count": null,
      "outputs": [
        {
          "output_type": "stream",
          "name": "stdout",
          "text": [
            "Device: cuda\n",
            "tensor([[0.3344, 0.2640],\n",
            "        [0.2119, 0.0582]], device='cuda:0')\n"
          ]
        }
      ]
    },
    {
      "cell_type": "code",
      "source": [
        "y = torch.rand(2, 2)\n",
        "y = y.to(my_device)\n",
        "print(y)"
      ],
      "metadata": {
        "colab": {
          "base_uri": "https://localhost:8080/"
        },
        "id": "9Y0fimpKH6XQ",
        "outputId": "3f4aae2b-19fe-4bb6-cb99-7f2cdf8dbf2a"
      },
      "execution_count": null,
      "outputs": [
        {
          "output_type": "stream",
          "name": "stdout",
          "text": [
            "tensor([[0.4762, 0.0548],\n",
            "        [0.2024, 0.5731]], device='cuda:0')\n"
          ]
        }
      ]
    },
    {
      "cell_type": "code",
      "source": [
        "x = torch.rand(2, 2)\n",
        "y = torch.rand(2, 2, device='gpu')\n",
        "z = x + y  # exception will be thrown"
      ],
      "metadata": {
        "colab": {
          "base_uri": "https://localhost:8080/",
          "height": 193
        },
        "id": "Rr4osYnrLZta",
        "outputId": "a09e2532-01a9-44d3-e743-5fea160e96da"
      },
      "execution_count": null,
      "outputs": [
        {
          "output_type": "error",
          "ename": "RuntimeError",
          "evalue": "Expected one of cpu, cuda, ipu, xpu, mkldnn, opengl, opencl, ideep, hip, ve, fpga, ort, xla, lazy, vulkan, mps, meta, hpu, mtia, privateuseone device type at start of device string: gpu",
          "traceback": [
            "\u001b[0;31m---------------------------------------------------------------------------\u001b[0m",
            "\u001b[0;31mRuntimeError\u001b[0m                              Traceback (most recent call last)",
            "\u001b[0;32m<ipython-input-21-7d8d3d884488>\u001b[0m in \u001b[0;36m<cell line: 2>\u001b[0;34m()\u001b[0m\n\u001b[1;32m      1\u001b[0m \u001b[0mx\u001b[0m \u001b[0;34m=\u001b[0m \u001b[0mtorch\u001b[0m\u001b[0;34m.\u001b[0m\u001b[0mrand\u001b[0m\u001b[0;34m(\u001b[0m\u001b[0;36m2\u001b[0m\u001b[0;34m,\u001b[0m \u001b[0;36m2\u001b[0m\u001b[0;34m)\u001b[0m\u001b[0;34m\u001b[0m\u001b[0;34m\u001b[0m\u001b[0m\n\u001b[0;32m----> 2\u001b[0;31m \u001b[0my\u001b[0m \u001b[0;34m=\u001b[0m \u001b[0mtorch\u001b[0m\u001b[0;34m.\u001b[0m\u001b[0mrand\u001b[0m\u001b[0;34m(\u001b[0m\u001b[0;36m2\u001b[0m\u001b[0;34m,\u001b[0m \u001b[0;36m2\u001b[0m\u001b[0;34m,\u001b[0m \u001b[0mdevice\u001b[0m\u001b[0;34m=\u001b[0m\u001b[0;34m'gpu'\u001b[0m\u001b[0;34m)\u001b[0m\u001b[0;34m\u001b[0m\u001b[0;34m\u001b[0m\u001b[0m\n\u001b[0m\u001b[1;32m      3\u001b[0m \u001b[0mz\u001b[0m \u001b[0;34m=\u001b[0m \u001b[0mx\u001b[0m \u001b[0;34m+\u001b[0m \u001b[0my\u001b[0m  \u001b[0;31m# exception will be thrown\u001b[0m\u001b[0;34m\u001b[0m\u001b[0;34m\u001b[0m\u001b[0m\n",
            "\u001b[0;31mRuntimeError\u001b[0m: Expected one of cpu, cuda, ipu, xpu, mkldnn, opengl, opencl, ideep, hip, ve, fpga, ort, xla, lazy, vulkan, mps, meta, hpu, mtia, privateuseone device type at start of device string: gpu"
          ]
        }
      ]
    },
    {
      "cell_type": "markdown",
      "source": [
        "### Manipulating Tensor Shapes"
      ],
      "metadata": {
        "id": "3bnAINmwPyms"
      }
    },
    {
      "cell_type": "markdown",
      "source": [
        "One case where you might need to change the number of dimensions is passing a single instance of input to your model. PyTorch models generally expect batches of input.\n",
        "\n",
        "For example, imagine having a model that works on 3 x 226 x 226 images - a 226-pixel square with 3 color channels. When you load and transform it, you’ll get a tensor of shape (3, 226, 226). Your model, though, is expecting input of shape (N, 3, 226, 226), where N is the number of images in the batch. So how do you make a batch of one?"
      ],
      "metadata": {
        "id": "9g0uCE_NQSZH"
      }
    },
    {
      "cell_type": "code",
      "source": [
        "a = torch.rand(3, 226, 226)\n",
        "b = a.unsqueeze(0)\n",
        "\n",
        "print(a.shape)\n",
        "print(b.shape)"
      ],
      "metadata": {
        "colab": {
          "base_uri": "https://localhost:8080/"
        },
        "id": "eJYlU9ibLZpm",
        "outputId": "03fd08fb-6722-4c23-d33f-f72be17ce8ff"
      },
      "execution_count": null,
      "outputs": [
        {
          "output_type": "stream",
          "name": "stdout",
          "text": [
            "torch.Size([3, 226, 226])\n",
            "torch.Size([1, 3, 226, 226])\n"
          ]
        }
      ]
    },
    {
      "cell_type": "markdown",
      "source": [
        "The unsqueeze() method adds a dimension of extent 1. unsqueeze(0) adds it as a new zeroth dimension - now you have a batch of one!\n",
        "\n",
        "So if that’s unsqueezing? What do we mean by squeezing? We’re taking advantage of the fact that any dimension of extent 1 does not change the number of elements in the tensor."
      ],
      "metadata": {
        "id": "QCvMymYtQeKO"
      }
    },
    {
      "cell_type": "code",
      "source": [
        "a = torch.rand(1, 20)\n",
        "print(a.shape)\n",
        "print(a)\n",
        "\n",
        "b = a.squeeze(0)\n",
        "print(b.shape)\n",
        "print(b)\n",
        "\n",
        "c = torch.rand(2, 2)\n",
        "print(c.shape)\n",
        "\n",
        "d = c.squeeze(0)\n",
        "print(d.shape)"
      ],
      "metadata": {
        "colab": {
          "base_uri": "https://localhost:8080/"
        },
        "id": "Zewi_jnKLZnL",
        "outputId": "dd36beb6-1ab4-47d4-d23d-0f156b74fe2e"
      },
      "execution_count": null,
      "outputs": [
        {
          "output_type": "stream",
          "name": "stdout",
          "text": [
            "torch.Size([1, 20])\n",
            "tensor([[0.9646, 0.1726, 0.5225, 0.8604, 0.8837, 0.8394, 0.8083, 0.5408, 0.2576,\n",
            "         0.5258, 0.5329, 0.5899, 0.4933, 0.3665, 0.1891, 0.9775, 0.7781, 0.0915,\n",
            "         0.4627, 0.7947]])\n",
            "torch.Size([20])\n",
            "tensor([0.9646, 0.1726, 0.5225, 0.8604, 0.8837, 0.8394, 0.8083, 0.5408, 0.2576,\n",
            "        0.5258, 0.5329, 0.5899, 0.4933, 0.3665, 0.1891, 0.9775, 0.7781, 0.0915,\n",
            "        0.4627, 0.7947])\n",
            "torch.Size([2, 2])\n",
            "torch.Size([2, 2])\n"
          ]
        }
      ]
    },
    {
      "cell_type": "markdown",
      "source": [
        "## NumPy Array"
      ],
      "metadata": {
        "id": "MpbP2goPHUNw"
      }
    },
    {
      "cell_type": "markdown",
      "source": [
        "### Array Creation"
      ],
      "metadata": {
        "id": "8d1jdgZcE9Pa"
      }
    },
    {
      "cell_type": "code",
      "source": [
        "a = np.array([2, 3, 4])\n",
        "print(a.dtype)\n",
        "b = np.array([1.2, 3.5, 5.1])\n",
        "print(b.dtype)"
      ],
      "metadata": {
        "id": "10j9H_5A5hS8",
        "colab": {
          "base_uri": "https://localhost:8080/"
        },
        "outputId": "bdf1e9ef-83d3-414a-bbdb-1dd82c939acd"
      },
      "execution_count": null,
      "outputs": [
        {
          "output_type": "stream",
          "name": "stdout",
          "text": [
            "int64\n",
            "float64\n"
          ]
        }
      ]
    },
    {
      "cell_type": "code",
      "source": [
        "c = np.array([[1, 2], [3, 4]], dtype=np.float64)\n",
        "print(c)"
      ],
      "metadata": {
        "colab": {
          "base_uri": "https://localhost:8080/"
        },
        "id": "fHSCYUaQFRHI",
        "outputId": "3277f1a7-5f1a-435a-c40e-ab62dad37f9f"
      },
      "execution_count": null,
      "outputs": [
        {
          "output_type": "stream",
          "name": "stdout",
          "text": [
            "[[1. 2.]\n",
            " [3. 4.]]\n"
          ]
        }
      ]
    },
    {
      "cell_type": "code",
      "source": [
        "a = np.zeros((3, 4))\n",
        "print(a)\n",
        "\n",
        "b = np.ones((3, 4))\n",
        "print(b)"
      ],
      "metadata": {
        "colab": {
          "base_uri": "https://localhost:8080/"
        },
        "id": "3kz97cpOFRD_",
        "outputId": "69c214ab-9ae0-457e-c88b-5d93449930e1"
      },
      "execution_count": null,
      "outputs": [
        {
          "output_type": "stream",
          "name": "stdout",
          "text": [
            "[[0. 0. 0. 0.]\n",
            " [0. 0. 0. 0.]\n",
            " [0. 0. 0. 0.]]\n",
            "[[1. 1. 1. 1.]\n",
            " [1. 1. 1. 1.]\n",
            " [1. 1. 1. 1.]]\n"
          ]
        }
      ]
    },
    {
      "cell_type": "markdown",
      "source": [
        "To create sequences of numbers, NumPy provides the arange function which is analogous to the Python built-in range, but returns an array."
      ],
      "metadata": {
        "id": "xC_tewFMGVCC"
      }
    },
    {
      "cell_type": "code",
      "source": [
        "a = np.arange(10, 30, 5)\n",
        "print(a)"
      ],
      "metadata": {
        "colab": {
          "base_uri": "https://localhost:8080/"
        },
        "id": "OftJ0SFKFRBW",
        "outputId": "b6978fcf-5abf-46b9-c558-77d5b96c3050"
      },
      "execution_count": null,
      "outputs": [
        {
          "output_type": "stream",
          "name": "stdout",
          "text": [
            "[10 15 20 25]\n"
          ]
        }
      ]
    },
    {
      "cell_type": "markdown",
      "source": [
        "When arange is used with floating point arguments, it is generally not possible to predict the number of elements obtained, due to the finite floating point precision. For this reason, it is usually better to use the function linspace that receives as an argument the number of elements that we want, instead of the step:"
      ],
      "metadata": {
        "id": "JXGX_AHVGjso"
      }
    },
    {
      "cell_type": "code",
      "source": [
        "a = np.linspace(0, 2, 9)\n",
        "print(a)"
      ],
      "metadata": {
        "colab": {
          "base_uri": "https://localhost:8080/"
        },
        "id": "bB0nFmbRFQ-Y",
        "outputId": "e5c312e6-1b4a-4ea4-8cb7-cfabe07e1d8f"
      },
      "execution_count": null,
      "outputs": [
        {
          "output_type": "stream",
          "name": "stdout",
          "text": [
            "[0.   0.25 0.5  0.75 1.   1.25 1.5  1.75 2.  ]\n"
          ]
        }
      ]
    },
    {
      "cell_type": "code",
      "source": [
        "b = np.arange(12).reshape(4, 3)     # 2d array\n",
        "print(b)"
      ],
      "metadata": {
        "colab": {
          "base_uri": "https://localhost:8080/"
        },
        "id": "G7xVyo9KGqlq",
        "outputId": "a562acb5-a89f-4681-9306-3feacc3438ec"
      },
      "execution_count": null,
      "outputs": [
        {
          "output_type": "stream",
          "name": "stdout",
          "text": [
            "[[ 0  1  2]\n",
            " [ 3  4  5]\n",
            " [ 6  7  8]\n",
            " [ 9 10 11]]\n"
          ]
        }
      ]
    },
    {
      "cell_type": "markdown",
      "source": [
        "### Basic Arithmetic Operations"
      ],
      "metadata": {
        "id": "9EFOkGioQ9vN"
      }
    },
    {
      "cell_type": "markdown",
      "source": [
        "Arithmetic operators on arrays apply elementwise. A new array is created and filled with the result."
      ],
      "metadata": {
        "id": "PkH09Zo-RNfl"
      }
    },
    {
      "cell_type": "code",
      "source": [
        "a = np.array([20, 30, 40, 50])\n",
        "b = np.arange(4)\n",
        "print(b)\n",
        "\n",
        "c = a - b\n",
        "print(c)\n",
        "\n",
        "print(b**2)\n",
        "\n",
        "print(10 * np.sin(a))\n",
        "\n",
        "print(a < 35)"
      ],
      "metadata": {
        "colab": {
          "base_uri": "https://localhost:8080/"
        },
        "id": "FEaLzHSrGqkE",
        "outputId": "20362260-33ef-410a-bd99-b55684dcf755"
      },
      "execution_count": null,
      "outputs": [
        {
          "output_type": "stream",
          "name": "stdout",
          "text": [
            "[0 1 2 3]\n",
            "[20 29 38 47]\n",
            "[0 1 4 9]\n",
            "[ 9.12945251 -9.88031624  7.4511316  -2.62374854]\n",
            "[ True  True False False]\n"
          ]
        }
      ]
    },
    {
      "cell_type": "markdown",
      "source": [
        "Unlike in many matrix languages, the product operator * operates elementwise in NumPy arrays. The matrix product can be performed using the @ operator (in python >=3.5) or the dot function or method:"
      ],
      "metadata": {
        "id": "e0VfzX7ORy3g"
      }
    },
    {
      "cell_type": "code",
      "source": [
        "A = np.array([[1, 1],\n",
        "              [0, 1]])\n",
        "B = np.array([[2, 0],\n",
        "              [3, 4]])\n",
        "print(A * B)     # elementwise product\n"
      ],
      "metadata": {
        "colab": {
          "base_uri": "https://localhost:8080/"
        },
        "id": "jew60ZUHGqhK",
        "outputId": "fdc2ea55-bb1b-4ccd-fd7e-1c699e6eaf8c"
      },
      "execution_count": null,
      "outputs": [
        {
          "output_type": "stream",
          "name": "stdout",
          "text": [
            "[[2 0]\n",
            " [0 4]]\n"
          ]
        }
      ]
    },
    {
      "cell_type": "code",
      "source": [
        "print(A @ B)     # matrix product"
      ],
      "metadata": {
        "colab": {
          "base_uri": "https://localhost:8080/"
        },
        "id": "8Ku3gDumTPLA",
        "outputId": "b413fc0a-4c5a-4624-ed2d-06c9068e75d8"
      },
      "execution_count": null,
      "outputs": [
        {
          "output_type": "stream",
          "name": "stdout",
          "text": [
            "[[5 4]\n",
            " [3 4]]\n"
          ]
        }
      ]
    },
    {
      "cell_type": "code",
      "source": [
        "\n",
        "\n",
        "print(A.dot(B))  # another matrix product"
      ],
      "metadata": {
        "colab": {
          "base_uri": "https://localhost:8080/"
        },
        "id": "66liOJ_ETQl8",
        "outputId": "51b4ea91-b714-46be-a0d3-55d329a7a95c"
      },
      "execution_count": null,
      "outputs": [
        {
          "output_type": "stream",
          "name": "stdout",
          "text": [
            "[[5 4]\n",
            " [3 4]]\n"
          ]
        }
      ]
    },
    {
      "cell_type": "markdown",
      "source": [
        "### Manipulation across dimension"
      ],
      "metadata": {
        "id": "QvRNAy_gSmNF"
      }
    },
    {
      "cell_type": "markdown",
      "source": [
        "By default, these operations apply to the array as though it were a list of numbers, regardless of its shape. However, by specifying the axis parameter you can apply an operation along the specified axis of an array:"
      ],
      "metadata": {
        "id": "JNQIx04nS0yq"
      }
    },
    {
      "cell_type": "code",
      "source": [
        "b = np.arange(12).reshape(3, 4)\n",
        "print(b)"
      ],
      "metadata": {
        "colab": {
          "base_uri": "https://localhost:8080/"
        },
        "id": "PypzYObrGqde",
        "outputId": "f85e9d91-66f0-4a3e-ec2d-2263a3f1cd74"
      },
      "execution_count": null,
      "outputs": [
        {
          "output_type": "stream",
          "name": "stdout",
          "text": [
            "[[ 0  1  2  3]\n",
            " [ 4  5  6  7]\n",
            " [ 8  9 10 11]]\n"
          ]
        }
      ]
    },
    {
      "cell_type": "code",
      "source": [
        "print(b.sum(axis=0))     # sum of each column\n"
      ],
      "metadata": {
        "colab": {
          "base_uri": "https://localhost:8080/"
        },
        "id": "k__6p0dWGqat",
        "outputId": "027e06b8-4c6b-4ff0-b37b-a75e240fd534"
      },
      "execution_count": null,
      "outputs": [
        {
          "output_type": "stream",
          "name": "stdout",
          "text": [
            "[12 15 18 21]\n"
          ]
        }
      ]
    },
    {
      "cell_type": "code",
      "source": [
        "print(b.min(axis=1))     # min of each row\n"
      ],
      "metadata": {
        "colab": {
          "base_uri": "https://localhost:8080/"
        },
        "id": "Dv8WYVY3Ta1M",
        "outputId": "464c8670-cd92-4050-e1aa-6619241c491a"
      },
      "execution_count": null,
      "outputs": [
        {
          "output_type": "stream",
          "name": "stdout",
          "text": [
            "[0 4 8]\n"
          ]
        }
      ]
    },
    {
      "cell_type": "code",
      "source": [
        "print(b.cumsum(axis=1))"
      ],
      "metadata": {
        "colab": {
          "base_uri": "https://localhost:8080/"
        },
        "id": "9ByfovzvTayb",
        "outputId": "392ce922-dc37-4cc1-c24f-3d20e68123b6"
      },
      "execution_count": null,
      "outputs": [
        {
          "output_type": "stream",
          "name": "stdout",
          "text": [
            "[[ 0  1  3  6]\n",
            " [ 4  9 15 22]\n",
            " [ 8 17 27 38]]\n"
          ]
        }
      ]
    },
    {
      "cell_type": "markdown",
      "source": [
        "You can also explore several such functions: all, any, apply_along_axis, argmax, argmin, argsort, average, bincount, ceil, clip, conj, corrcoef, cov, cross, cumprod, cumsum, diff, dot, floor, inner, invert, lexsort, max, maximum, mean, median, min, minimum, nonzero, outer, prod, re, round, sort, std, sum, trace, transpose, var, vdot, vectorize, where"
      ],
      "metadata": {
        "id": "1iaE5_uBTqF9"
      }
    },
    {
      "cell_type": "markdown",
      "source": [
        "### Indexing, Slicing and Iterating"
      ],
      "metadata": {
        "id": "Mb8x-ja1UDZM"
      }
    },
    {
      "cell_type": "markdown",
      "source": [
        "One-dimensional arrays can be indexed, sliced and iterated over, much like lists and other Python sequences."
      ],
      "metadata": {
        "id": "7YE7p05oUbLl"
      }
    },
    {
      "cell_type": "code",
      "source": [
        "a = np.arange(10)**3\n",
        "print(a)"
      ],
      "metadata": {
        "colab": {
          "base_uri": "https://localhost:8080/"
        },
        "id": "2e0gpelYUb8K",
        "outputId": "43607fb9-7078-4b73-82f3-1733b1433383"
      },
      "execution_count": null,
      "outputs": [
        {
          "output_type": "stream",
          "name": "stdout",
          "text": [
            "[  0   1   8  27  64 125 216 343 512 729]\n"
          ]
        }
      ]
    },
    {
      "cell_type": "code",
      "source": [
        "print(a[2])\n",
        "print(a[2:5])"
      ],
      "metadata": {
        "colab": {
          "base_uri": "https://localhost:8080/"
        },
        "id": "jgSX3YpyVLQP",
        "outputId": "320dbc96-d9fd-48da-9228-12d4b9bdc9a1"
      },
      "execution_count": null,
      "outputs": [
        {
          "output_type": "stream",
          "name": "stdout",
          "text": [
            "8\n",
            "[ 8 27 64]\n"
          ]
        }
      ]
    },
    {
      "cell_type": "code",
      "source": [
        "# equivalent to a[0:6:2] = 1000;\n",
        "# from start to position 6, exclusive, set every 2nd element to 1000\n",
        "a[:6:2] = 1000\n",
        "print(a)"
      ],
      "metadata": {
        "colab": {
          "base_uri": "https://localhost:8080/"
        },
        "id": "fv0y3lDNVLNS",
        "outputId": "a736a973-eb1b-480d-e7d2-dd34804f095f"
      },
      "execution_count": null,
      "outputs": [
        {
          "output_type": "stream",
          "name": "stdout",
          "text": [
            "[1000    1 1000   27 1000  125  216  343  512  729]\n"
          ]
        }
      ]
    },
    {
      "cell_type": "code",
      "source": [
        "print(a[::-1])  # reversed a"
      ],
      "metadata": {
        "colab": {
          "base_uri": "https://localhost:8080/"
        },
        "id": "zJPKXQDLVLKf",
        "outputId": "f13ffbd6-10cb-459f-fded-1e1e38887d51"
      },
      "execution_count": null,
      "outputs": [
        {
          "output_type": "stream",
          "name": "stdout",
          "text": [
            "[ 729  512  343  216  125 1000   27 1000    1 1000]\n"
          ]
        }
      ]
    },
    {
      "cell_type": "markdown",
      "source": [
        "Multidimensional arrays can have one index per axis. These indices are given in a tuple separated by commas:"
      ],
      "metadata": {
        "id": "x586k9n8VwwY"
      }
    },
    {
      "cell_type": "code",
      "source": [
        "b = np.array([[ 0,  1,  2,  3],\n",
        "       [10, 11, 12, 13],\n",
        "       [20, 21, 22, 23],\n",
        "       [30, 31, 32, 33],\n",
        "       [40, 41, 42, 43]])\n",
        "\n",
        "print(b)"
      ],
      "metadata": {
        "colab": {
          "base_uri": "https://localhost:8080/"
        },
        "id": "TkopkPiHVx3J",
        "outputId": "dc824329-a6d1-4187-9b7d-c317ba8563f2"
      },
      "execution_count": null,
      "outputs": [
        {
          "output_type": "stream",
          "name": "stdout",
          "text": [
            "[[ 0  1  2  3]\n",
            " [10 11 12 13]\n",
            " [20 21 22 23]\n",
            " [30 31 32 33]\n",
            " [40 41 42 43]]\n"
          ]
        }
      ]
    },
    {
      "cell_type": "code",
      "source": [
        "print(b[2, 3])"
      ],
      "metadata": {
        "colab": {
          "base_uri": "https://localhost:8080/"
        },
        "id": "ccnlE47FVx04",
        "outputId": "0cb00d05-6882-4d77-95b6-37a51825405d"
      },
      "execution_count": null,
      "outputs": [
        {
          "output_type": "stream",
          "name": "stdout",
          "text": [
            "23\n"
          ]
        }
      ]
    },
    {
      "cell_type": "code",
      "source": [
        "print(b[0:5, 1])  # each row in the second column of b"
      ],
      "metadata": {
        "colab": {
          "base_uri": "https://localhost:8080/"
        },
        "id": "WCREjLfbVxwq",
        "outputId": "59778e6d-98d9-4e50-f5d2-d6b9e858f39d"
      },
      "execution_count": null,
      "outputs": [
        {
          "output_type": "stream",
          "name": "stdout",
          "text": [
            "[ 1 11 21 31 41]\n"
          ]
        }
      ]
    },
    {
      "cell_type": "code",
      "source": [
        "print(b[:, 1])    # equivalent to the previous example"
      ],
      "metadata": {
        "colab": {
          "base_uri": "https://localhost:8080/"
        },
        "id": "sfVXL_fPVLFj",
        "outputId": "b4f8e0db-9cb3-4356-af27-80d376861251"
      },
      "execution_count": null,
      "outputs": [
        {
          "output_type": "stream",
          "name": "stdout",
          "text": [
            "[ 1 11 21 31 41]\n"
          ]
        }
      ]
    },
    {
      "cell_type": "code",
      "source": [
        "print(b[1:3, :])"
      ],
      "metadata": {
        "colab": {
          "base_uri": "https://localhost:8080/"
        },
        "id": "QoZmqodlVK_0",
        "outputId": "b67c17cd-4b51-4fe1-e270-08af582128a6"
      },
      "execution_count": null,
      "outputs": [
        {
          "output_type": "stream",
          "name": "stdout",
          "text": [
            "[[10 11 12 13]\n",
            " [20 21 22 23]]\n"
          ]
        }
      ]
    },
    {
      "cell_type": "markdown",
      "source": [
        "When fewer indices are provided than the number of axes, the missing indices are considered complete slices:"
      ],
      "metadata": {
        "id": "9qgohuolWcQ9"
      }
    },
    {
      "cell_type": "code",
      "source": [
        "print(b[-1])   # the last row. Equivalent to b[-1, :]"
      ],
      "metadata": {
        "colab": {
          "base_uri": "https://localhost:8080/"
        },
        "id": "y608ku0VTavP",
        "outputId": "41d305cc-3808-4c1f-9599-cca8b504a477"
      },
      "execution_count": null,
      "outputs": [
        {
          "output_type": "stream",
          "name": "stdout",
          "text": [
            "[40 41 42 43]\n"
          ]
        }
      ]
    },
    {
      "cell_type": "code",
      "source": [
        "c = np.array([[[  0,  1,  2],  # a 3D array (two stacked 2D arrays)\n",
        "               [ 10, 12, 13]],\n",
        "              [[100, 101, 102],\n",
        "               [110, 112, 113]]])\n",
        "\n",
        "print(c)\n",
        "print(c.shape)"
      ],
      "metadata": {
        "colab": {
          "base_uri": "https://localhost:8080/"
        },
        "id": "NXoGcJsXWll5",
        "outputId": "4a8dcbbf-6c58-4d84-9db6-630473d744fd"
      },
      "execution_count": null,
      "outputs": [
        {
          "output_type": "stream",
          "name": "stdout",
          "text": [
            "[[[  0   1   2]\n",
            "  [ 10  12  13]]\n",
            "\n",
            " [[100 101 102]\n",
            "  [110 112 113]]]\n",
            "(2, 2, 3)\n"
          ]
        }
      ]
    },
    {
      "cell_type": "code",
      "source": [
        "print(c[1, ...])  # same as c[1, :, :] or c[1]"
      ],
      "metadata": {
        "colab": {
          "base_uri": "https://localhost:8080/"
        },
        "id": "yb9WVY_uWljS",
        "outputId": "9f2e73f4-208d-4d91-ae3b-db32befb5e68"
      },
      "execution_count": null,
      "outputs": [
        {
          "output_type": "stream",
          "name": "stdout",
          "text": [
            "[[100 101 102]\n",
            " [110 112 113]]\n"
          ]
        }
      ]
    },
    {
      "cell_type": "code",
      "source": [
        "print(c[..., 2])  # same as c[:, :, 2]"
      ],
      "metadata": {
        "colab": {
          "base_uri": "https://localhost:8080/"
        },
        "id": "3-Pjk-cLWlgO",
        "outputId": "6998ade7-15f5-44c3-8fcb-a3318347cda1"
      },
      "execution_count": null,
      "outputs": [
        {
          "output_type": "stream",
          "name": "stdout",
          "text": [
            "[[  2  13]\n",
            " [102 113]]\n"
          ]
        }
      ]
    },
    {
      "cell_type": "markdown",
      "source": [
        "### Shape Manipulation"
      ],
      "metadata": {
        "id": "0Cf5U_bibA75"
      }
    },
    {
      "cell_type": "code",
      "source": [
        "a = np.array([[3., 7., 3., 4.],\n",
        "       [1., 4., 2., 2.],\n",
        "       [7., 2., 4., 9.]])\n",
        "print(a.shape)\n",
        "print(a)"
      ],
      "metadata": {
        "colab": {
          "base_uri": "https://localhost:8080/"
        },
        "id": "6I85brycavSH",
        "outputId": "bc86d18b-0a46-4bfd-93d6-616ff1fc2050"
      },
      "execution_count": null,
      "outputs": [
        {
          "output_type": "stream",
          "name": "stdout",
          "text": [
            "(3, 4)\n",
            "[[3. 7. 3. 4.]\n",
            " [1. 4. 2. 2.]\n",
            " [7. 2. 4. 9.]]\n"
          ]
        }
      ]
    },
    {
      "cell_type": "markdown",
      "source": [
        "The shape of an array can be changed with various commands. Note that the following three commands all return a modified array, but do not change the original array:"
      ],
      "metadata": {
        "id": "LSbSPEz0bdad"
      }
    },
    {
      "cell_type": "code",
      "source": [
        "print(a.ravel())"
      ],
      "metadata": {
        "colab": {
          "base_uri": "https://localhost:8080/"
        },
        "id": "erPRjgtnavPP",
        "outputId": "4eda74f4-641c-4be9-8b4d-47372cb4679b"
      },
      "execution_count": null,
      "outputs": [
        {
          "output_type": "stream",
          "name": "stdout",
          "text": [
            "[3. 7. 3. 4. 1. 4. 2. 2. 7. 2. 4. 9.]\n"
          ]
        }
      ]
    },
    {
      "cell_type": "code",
      "source": [
        "print(a.reshape(6, 2))"
      ],
      "metadata": {
        "colab": {
          "base_uri": "https://localhost:8080/"
        },
        "id": "xkXGck9qavL9",
        "outputId": "bc6f3d92-e707-4cd5-a941-cf912583624b"
      },
      "execution_count": null,
      "outputs": [
        {
          "output_type": "stream",
          "name": "stdout",
          "text": [
            "[[3. 7.]\n",
            " [3. 4.]\n",
            " [1. 4.]\n",
            " [2. 2.]\n",
            " [7. 2.]\n",
            " [4. 9.]]\n"
          ]
        }
      ]
    },
    {
      "cell_type": "code",
      "source": [
        "print(a.T)"
      ],
      "metadata": {
        "colab": {
          "base_uri": "https://localhost:8080/"
        },
        "id": "jN2P4r4KavJD",
        "outputId": "467cb8e5-7d3b-41fd-d428-13f41e8b7947"
      },
      "execution_count": null,
      "outputs": [
        {
          "output_type": "stream",
          "name": "stdout",
          "text": [
            "[[3. 1. 7.]\n",
            " [7. 4. 2.]\n",
            " [3. 2. 4.]\n",
            " [4. 2. 9.]]\n"
          ]
        }
      ]
    },
    {
      "cell_type": "markdown",
      "source": [
        "The reshape function returns its argument with a modified shape, whereas the ndarray.resize method modifies the array itself:"
      ],
      "metadata": {
        "id": "6tAodT8cbu3g"
      }
    },
    {
      "cell_type": "code",
      "source": [
        "print(a)"
      ],
      "metadata": {
        "colab": {
          "base_uri": "https://localhost:8080/"
        },
        "id": "Ll8NCqNlbrKo",
        "outputId": "9f9d5662-9b40-4e0b-9760-f6803ad90c23"
      },
      "execution_count": null,
      "outputs": [
        {
          "output_type": "stream",
          "name": "stdout",
          "text": [
            "[[3. 7. 3. 4.]\n",
            " [1. 4. 2. 2.]\n",
            " [7. 2. 4. 9.]]\n"
          ]
        }
      ]
    },
    {
      "cell_type": "code",
      "source": [
        "a.resize((2, 6))\n",
        "print(a)"
      ],
      "metadata": {
        "colab": {
          "base_uri": "https://localhost:8080/"
        },
        "id": "D8ui2CADbrHV",
        "outputId": "5a187edd-60fd-4025-b528-cafc61a398e0"
      },
      "execution_count": null,
      "outputs": [
        {
          "output_type": "stream",
          "name": "stdout",
          "text": [
            "[[3. 7. 3. 4. 1. 4.]\n",
            " [2. 2. 7. 2. 4. 9.]]\n"
          ]
        }
      ]
    },
    {
      "cell_type": "markdown",
      "source": [
        "If a dimension is given as -1 in a reshaping operation, the other dimensions are automatically calculated:"
      ],
      "metadata": {
        "id": "PQI6_zjQb66C"
      }
    },
    {
      "cell_type": "code",
      "source": [
        "print(a.reshape(3, -1))"
      ],
      "metadata": {
        "colab": {
          "base_uri": "https://localhost:8080/"
        },
        "id": "XLyEuprNGqYA",
        "outputId": "cc13949b-5096-4c8e-88f9-57f6e4ff43d9"
      },
      "execution_count": null,
      "outputs": [
        {
          "output_type": "stream",
          "name": "stdout",
          "text": [
            "[[3. 7. 3. 4.]\n",
            " [1. 4. 2. 2.]\n",
            " [7. 2. 4. 9.]]\n"
          ]
        }
      ]
    },
    {
      "cell_type": "markdown",
      "source": [
        "### Stacking together different arrays"
      ],
      "metadata": {
        "id": "S3aFf2j5cwyt"
      }
    },
    {
      "cell_type": "markdown",
      "source": [
        "Several arrays can be stacked together along different axes:"
      ],
      "metadata": {
        "id": "qFZE6Ffmc5Tk"
      }
    },
    {
      "cell_type": "code",
      "source": [
        "a = np.array([[9., 7.],\n",
        "       [5., 2.]])\n",
        "b = np.array([[1., 9.],\n",
        "       [5., 1.]])\n",
        "print(a)\n",
        "print(b)"
      ],
      "metadata": {
        "colab": {
          "base_uri": "https://localhost:8080/"
        },
        "id": "9WGqXvHpcOiR",
        "outputId": "2454c276-11aa-482c-d60c-7cb1e21ab5de"
      },
      "execution_count": null,
      "outputs": [
        {
          "output_type": "stream",
          "name": "stdout",
          "text": [
            "[[9. 7.]\n",
            " [5. 2.]]\n",
            "[[1. 9.]\n",
            " [5. 1.]]\n"
          ]
        }
      ]
    },
    {
      "cell_type": "code",
      "source": [
        "print(np.vstack((a, b)))"
      ],
      "metadata": {
        "colab": {
          "base_uri": "https://localhost:8080/"
        },
        "id": "-WikPk0icOeF",
        "outputId": "68f20e72-40b4-41ba-daa8-a1d4c0a6b233"
      },
      "execution_count": null,
      "outputs": [
        {
          "output_type": "stream",
          "name": "stdout",
          "text": [
            "[[9. 7.]\n",
            " [5. 2.]\n",
            " [1. 9.]\n",
            " [5. 1.]]\n"
          ]
        }
      ]
    },
    {
      "cell_type": "code",
      "source": [
        "print(np.hstack((a, b)))"
      ],
      "metadata": {
        "colab": {
          "base_uri": "https://localhost:8080/"
        },
        "id": "ofrZ3d13cOZ_",
        "outputId": "db0d3a90-1b90-492e-b470-27a1106656b6"
      },
      "execution_count": null,
      "outputs": [
        {
          "output_type": "stream",
          "name": "stdout",
          "text": [
            "[[9. 7. 1. 9.]\n",
            " [5. 2. 5. 1.]]\n"
          ]
        }
      ]
    },
    {
      "cell_type": "markdown",
      "source": [
        "Also explore functions: hstack, vstack, column_stack, concatenate, c_, r_"
      ],
      "metadata": {
        "id": "QagkIQMEdUwd"
      }
    },
    {
      "cell_type": "markdown",
      "source": [
        "### Copies and Views"
      ],
      "metadata": {
        "id": "4fHpOgZEd1fW"
      }
    },
    {
      "cell_type": "markdown",
      "source": [
        "Simple assignments make no copy of objects or their data."
      ],
      "metadata": {
        "id": "7dNdMAIud8T-"
      }
    },
    {
      "cell_type": "code",
      "source": [
        "a = np.array([[ 0,  1,  2,  3],\n",
        "              [ 4,  5,  6,  7],\n",
        "              [ 8,  9, 10, 11]])\n",
        "b = a            # no new object is created\n",
        "b[0][0] = 523\n",
        "print(a)"
      ],
      "metadata": {
        "colab": {
          "base_uri": "https://localhost:8080/"
        },
        "id": "hXHBzdOLcOWi",
        "outputId": "afc6956f-4e38-4ad2-a57b-e595de5c7331"
      },
      "execution_count": null,
      "outputs": [
        {
          "output_type": "stream",
          "name": "stdout",
          "text": [
            "[[523   1   2   3]\n",
            " [  4   5   6   7]\n",
            " [  8   9  10  11]]\n"
          ]
        }
      ]
    },
    {
      "cell_type": "markdown",
      "source": [
        "Different array objects can share the same data. The view method creates a new array object that looks at the same data."
      ],
      "metadata": {
        "id": "nzi8ry8veY4W"
      }
    },
    {
      "cell_type": "code",
      "source": [
        "c = a.view()  #c is a view of the data owned by a\n",
        "\n",
        "c = c.reshape((2, 6))  # a's shape doesn't change\n",
        "print(c)\n",
        "\n",
        "c[0, 4] = 1234         # a's data changes\n",
        "print(a)"
      ],
      "metadata": {
        "colab": {
          "base_uri": "https://localhost:8080/"
        },
        "id": "nA-QqRhGcOTs",
        "outputId": "d65af557-7436-45b2-c8e7-c71843286b0b"
      },
      "execution_count": null,
      "outputs": [
        {
          "output_type": "stream",
          "name": "stdout",
          "text": [
            "[[523   1   2   3   4   5]\n",
            " [  6   7   8   9  10  11]]\n",
            "[[ 523    1    2    3]\n",
            " [1234    5    6    7]\n",
            " [   8    9   10   11]]\n"
          ]
        }
      ]
    },
    {
      "cell_type": "markdown",
      "source": [
        "Slicing an array returns a view of it:"
      ],
      "metadata": {
        "id": "B5pJHnjefGHq"
      }
    },
    {
      "cell_type": "code",
      "source": [
        "s = a[:, 1:3]\n",
        "s[:] = 10  # s[:] is a view of s. Note the difference between s = 10 and s[:] = 10\n",
        "print(a)"
      ],
      "metadata": {
        "colab": {
          "base_uri": "https://localhost:8080/"
        },
        "id": "Xge0SG__cOQ5",
        "outputId": "7b40db9c-a489-487d-8c39-be1c74e73827"
      },
      "execution_count": null,
      "outputs": [
        {
          "output_type": "stream",
          "name": "stdout",
          "text": [
            "[[ 523   10   10    3]\n",
            " [1234   10   10    7]\n",
            " [   8   10   10   11]]\n"
          ]
        }
      ]
    },
    {
      "cell_type": "markdown",
      "source": [
        "The copy method makes a complete copy of the array and its data."
      ],
      "metadata": {
        "id": "_dCaNmvlfXAy"
      }
    },
    {
      "cell_type": "code",
      "source": [
        "d = a.copy()  # a new array object with new data is created\n",
        "d[0, 0] = 9999\n",
        "print(a)"
      ],
      "metadata": {
        "colab": {
          "base_uri": "https://localhost:8080/"
        },
        "id": "-H1bexFOcOOS",
        "outputId": "3f3d6dea-0b3a-448a-fa98-81255200f2e5"
      },
      "execution_count": null,
      "outputs": [
        {
          "output_type": "stream",
          "name": "stdout",
          "text": [
            "[[ 523   10   10    3]\n",
            " [1234   10   10    7]\n",
            " [   8   10   10   11]]\n"
          ]
        }
      ]
    },
    {
      "cell_type": "markdown",
      "source": [
        "### Functions and Methods Overview"
      ],
      "metadata": {
        "id": "ZZkyHOlCfpxL"
      }
    },
    {
      "cell_type": "markdown",
      "source": [
        "Here is a list of some useful NumPy functions and methods names ordered in categories."
      ],
      "metadata": {
        "id": "K-9BrVlzftKU"
      }
    },
    {
      "cell_type": "markdown",
      "source": [
        "**Array Creation :**  arange, array, copy, empty, empty_like, eye, fromfile, fromfunction, identity, linspace, logspace, mgrid, ogrid, ones, ones_like, r_, zeros, zeros_like\n",
        "\n",
        "**Conversions :** ndarray.astype, atleast_1d, atleast_2d, atleast_3d, mat\n",
        "\n",
        "**Manipulations :** array_split, column_stack, concatenate, diagonal, dsplit, dstack, hsplit, hstack, ndarray.item, newaxis, ravel, repeat, reshape, resize, squeeze, swapaxes, take, transpose, vsplit, vstack\n",
        "\n",
        "**Questions :** all, any, nonzero, where\n",
        "\n",
        "**Ordering:** argmax, argmin, argsort, max, min, ptp, searchsorted, sort\n",
        "\n",
        "**Operations :** choose, compress, cumprod, cumsum, inner, ndarray.fill, imag, prod, put, putmask, real, sum\n",
        "\n",
        "**Basic Statistics :** cov, mean, std, var\n",
        "\n",
        "**Basic Linear Algebra :** cross, dot, outer, linalg.svd, vdot"
      ],
      "metadata": {
        "id": "MAzSC9Maft_z"
      }
    },
    {
      "cell_type": "markdown",
      "source": [
        "### Broadcasting rules"
      ],
      "metadata": {
        "id": "xTEqxHF1gW4q"
      }
    },
    {
      "cell_type": "markdown",
      "source": [
        "Broadcasting allows universal functions to deal in a meaningful way with inputs that do not have exactly the same shape.\n",
        "\n",
        "The first rule of broadcasting is that if all input arrays do not have the same number of dimensions, a “1” will be repeatedly prepended to the shapes of the smaller arrays until all the arrays have the same number of dimensions.\n",
        "\n",
        "The second rule of broadcasting ensures that arrays with a size of 1 along a particular dimension act as if they had the size of the array with the largest shape along that dimension. The value of the array element is assumed to be the same along that dimension for the “broadcast” array.\n",
        "\n",
        "After application of the broadcasting rules, the sizes of all arrays must match. More details can be found in [Broadcasting](https://numpy.org/doc/stable/user/basics.broadcasting.html#basics-broadcasting)."
      ],
      "metadata": {
        "id": "nlwdF2w4gbGZ"
      }
    },
    {
      "cell_type": "markdown",
      "source": [
        "## NumPy Bridge with PyTorch"
      ],
      "metadata": {
        "id": "_h575YrIguVK"
      }
    },
    {
      "cell_type": "markdown",
      "source": [
        "PyTorch’s broadcast semantics are compatible with NumPy’s - but the kinship between PyTorch and NumPy goes even deeper than that.\n",
        "\n",
        "If you have existing ML or scientific code with data stored in NumPy ndarrays, you may wish to express that same data as PyTorch tensors, whether to take advantage of PyTorch’s GPU acceleration, or its efficient abstractions for building ML models. It’s easy to switch between ndarrays and PyTorch tensors:"
      ],
      "metadata": {
        "id": "swsEkYEeg6az"
      }
    },
    {
      "cell_type": "code",
      "source": [
        "numpy_array = np.ones((2, 3))\n",
        "print(numpy_array)"
      ],
      "metadata": {
        "colab": {
          "base_uri": "https://localhost:8080/"
        },
        "id": "TPeX7Ccvfbhu",
        "outputId": "a8400590-28fb-4a7b-bd07-676064f04fd5"
      },
      "execution_count": null,
      "outputs": [
        {
          "output_type": "stream",
          "name": "stdout",
          "text": [
            "[[1. 1. 1.]\n",
            " [1. 1. 1.]]\n"
          ]
        }
      ]
    },
    {
      "cell_type": "code",
      "source": [
        "pytorch_tensor = torch.from_numpy(numpy_array)\n",
        "print(pytorch_tensor)"
      ],
      "metadata": {
        "colab": {
          "base_uri": "https://localhost:8080/"
        },
        "id": "-eKytvbXfbco",
        "outputId": "0c5f43d7-f1ab-4483-8c4b-80d6265ab49a"
      },
      "execution_count": null,
      "outputs": [
        {
          "output_type": "stream",
          "name": "stdout",
          "text": [
            "tensor([[1., 1., 1.],\n",
            "        [1., 1., 1.]], dtype=torch.float64)\n"
          ]
        }
      ]
    },
    {
      "cell_type": "markdown",
      "source": [
        "#  Loss Functions"
      ],
      "metadata": {
        "id": "m0bwATI-kLTi"
      }
    },
    {
      "cell_type": "markdown",
      "source": [
        "This tutorial is adapted from the blog post by Alfrick Opidi and\n",
        "Abhishek Jha on [Neptune AI](https://neptune.ai/blog/pytorch-loss-functions)"
      ],
      "metadata": {
        "id": "lPcQkY1_kNkm"
      }
    },
    {
      "cell_type": "markdown",
      "source": [
        "## What are the loss functions?\n",
        "\n",
        "Loss functions are used to gauge the error between the prediction output and the provided target value. A loss function tells us how far the algorithm model is from realizing the expected outcome. The word ‘loss’ means the penalty that the model gets for failing to yield the desired results.\n",
        "\n",
        "For example, a loss function (let’s call it J) can take the following two parameters:\n",
        "\n",
        "* Predicted output (y_pred)\n",
        "* Target value (y)\n",
        "\n"
      ],
      "metadata": {
        "id": "47rYpINOlVNg"
      }
    },
    {
      "cell_type": "code",
      "source": [],
      "metadata": {
        "colab": {
          "base_uri": "https://localhost:8080/",
          "height": 430
        },
        "id": "d-AK6UcLqTOy",
        "outputId": "8de99f30-ead2-4628-8e44-d9dca7914f05"
      },
      "execution_count": null,
      "outputs": [
        {
          "output_type": "display_data",
          "data": {
            "image/png": "[encoded data removed]",
            "text/plain": [
              "<IPython.core.display.Image object>"
            ]
          },
          "metadata": {}
        }
      ]
    },
    {
      "cell_type": "markdown",
      "source": [
        "This function will determine your model’s performance by comparing its predicted output with the expected output. If the deviation between y_pred and y is very large, the loss value will be very high.\n",
        "\n",
        "If the deviation is small or the values are nearly identical, it’ll output a very low loss value. Therefore, you need to use a loss function that can penalize a model properly when it is training on the provided dataset.\n",
        "\n",
        "Loss functions change based on the problem statement that your algorithm is trying to solve."
      ],
      "metadata": {
        "id": "skODa1fOqf1j"
      }
    },
    {
      "cell_type": "markdown",
      "source": [
        "## How to add PyTorch loss functions?"
      ],
      "metadata": {
        "id": "h754fi5mq5ze"
      }
    },
    {
      "cell_type": "markdown",
      "source": [
        "PyTorch’s [torch.nn](https://pytorch.org/docs/stable/nn.html) module has multiple standard loss functions that you can use in your project.\n",
        "\n",
        "To add them, you need to first import the libraries:"
      ],
      "metadata": {
        "id": "C9UW8-qDq_fX"
      }
    },
    {
      "cell_type": "code",
      "source": [
        "import torch\n",
        "import torch.nn as nn"
      ],
      "metadata": {
        "id": "8iPZI7iVjlq0"
      },
      "execution_count": null,
      "outputs": []
    },
    {
      "cell_type": "markdown",
      "source": [
        "Next, define the type of loss you want to use. Here’s how to define the mean absolute error loss function:"
      ],
      "metadata": {
        "id": "Y6sNb2-orNpJ"
      }
    },
    {
      "cell_type": "code",
      "source": [
        "loss = nn.L1Loss()"
      ],
      "metadata": {
        "id": "ZLjakW1Gjlmr"
      },
      "execution_count": null,
      "outputs": []
    },
    {
      "cell_type": "markdown",
      "source": [
        "After adding a function, you can use it to accomplish your specific task."
      ],
      "metadata": {
        "id": "UYwGLetorjq6"
      }
    },
    {
      "cell_type": "markdown",
      "source": [
        "## Which loss functions are available in PyTorch?"
      ],
      "metadata": {
        "id": "s8aR6v-ssUyd"
      }
    },
    {
      "cell_type": "markdown",
      "source": [
        "Broadly speaking, loss functions in PyTorch are divided into two main categories: regression losses and classification losses.\n",
        "\n",
        "**Regression loss functions** are used when the model is predicting a continuous value, like the age of a person.\n",
        "\n",
        "**Classification loss functions** are used when the model is predicting a discrete value, such as whether an email is spam or not.\n",
        "\n",
        "Now we’ll explore the different types of loss functions in PyTorch, and how to use them:\n",
        "\n",
        "* Mean Absolute Error Loss\n",
        "* Mean Squared Error Loss\n",
        "* Negative Log-Likelihood Loss\n",
        "* Cross-Entropy Loss"
      ],
      "metadata": {
        "id": "OSwkCEulsYgs"
      }
    },
    {
      "cell_type": "markdown",
      "source": [
        "### Mean Absolute Error (L1 Loss Function)"
      ],
      "metadata": {
        "id": "FK9ktcxvs8Uy"
      }
    },
    {
      "cell_type": "code",
      "source": [
        "torch.nn.L1Loss"
      ],
      "metadata": {
        "id": "ZYmUeYNOtBP2"
      },
      "execution_count": null,
      "outputs": []
    },
    {
      "cell_type": "markdown",
      "source": [
        "**The Mean Absolute Error (MAE)**, also called L1 Loss, computes the average of the sum of absolute differences between actual values and predicted values.\n",
        "\n",
        "It checks the size of errors in a set of predicted values, without caring about their positive or negative direction. If the absolute values of the errors are not used, then negative values could cancel out the positive values.\n",
        "\n",
        "The Pytorch L1 Loss is expressed as:\n",
        "\n",
        "$loss(x,y) = |x - y|$\n",
        "\n",
        "where x represents the actual value and y the predicted value.\n",
        "\n",
        "**When could it be used?**\n",
        "\n",
        "Regression problems, especially when the distribution of the target variable has outliers, such as small or big values that are a great distance from the mean value. It is considered to be more robust to outliers."
      ],
      "metadata": {
        "id": "gyrFj1Srs-Ay"
      }
    },
    {
      "cell_type": "code",
      "source": [
        "import torch\n",
        "import torch.nn as nn\n",
        "\n",
        "input = torch.randn(3, 5, requires_grad=True)\n",
        "target = torch.randn(3, 5)\n",
        "\n",
        "mae_loss = nn.L1Loss()\n",
        "output = mae_loss(input, target)\n",
        "output.backward()\n",
        "\n",
        "print('input: ', input)\n",
        "print('target: ', target)\n",
        "print('output: ', output)"
      ],
      "metadata": {
        "colab": {
          "base_uri": "https://localhost:8080/"
        },
        "id": "CVxG4FoUrHE5",
        "outputId": "ab9beb03-880c-4bda-9d4f-af3777236525"
      },
      "execution_count": null,
      "outputs": [
        {
          "output_type": "stream",
          "name": "stdout",
          "text": [
            "input:  tensor([[ 1.1909, -0.3660,  0.2727,  0.8725,  0.2476],\n",
            "        [ 0.5321,  0.4186,  1.1358,  0.3220,  1.4501],\n",
            "        [ 0.9163,  1.9088, -1.2235, -0.9724, -1.0786]], requires_grad=True)\n",
            "target:  tensor([[ 0.3165,  0.0631,  0.6035, -0.0619,  1.1976],\n",
            "        [-1.1863,  1.8435,  1.0861, -0.3317, -1.1855],\n",
            "        [ 0.1254, -0.4937,  0.0327, -1.0763,  0.7773]])\n",
            "output:  tensor(1.0940, grad_fn=<MeanBackward0>)\n"
          ]
        }
      ]
    },
    {
      "cell_type": "markdown",
      "source": [
        "### Mean Squared Error Loss Function"
      ],
      "metadata": {
        "id": "q2490HPctrWn"
      }
    },
    {
      "cell_type": "code",
      "source": [
        "torch.nn.MSELoss"
      ],
      "metadata": {
        "id": "oy50N5Jgtpbe"
      },
      "execution_count": null,
      "outputs": []
    },
    {
      "cell_type": "markdown",
      "source": [
        "The Mean Squared Error (MSE), also called L2 Loss, computes the average of the squared differences between actual values and predicted values.\n",
        "\n",
        "Pytorch MSE Loss always outputs a positive result, regardless of the sign of actual and predicted values. To enhance the accuracy of the model, you should try to reduce the L2 Loss—a perfect value is 0.0.\n",
        "\n",
        "The squaring implies that larger mistakes produce even larger errors than smaller ones. If the classifier is off by 100, the error is 10,000. If it’s off by 0.1, the error is 0.01. This punishes the model for making big mistakes and encourages small mistakes.\n",
        "\n",
        "The Pytorch L2 Loss is expressed as:\n",
        "\n",
        "$loss(x,y) = (x-y)^2$\n",
        "\n",
        "where x represents the actual value and y the predicted value.\n",
        "\n",
        "**When could it be used?**\n",
        "\n",
        "MSE is the default loss function for most Pytorch regression problems."
      ],
      "metadata": {
        "id": "XtO_xBfMtvOG"
      }
    },
    {
      "cell_type": "code",
      "source": [
        "import torch\n",
        "import torch.nn as nn\n",
        "\n",
        "input = torch.randn(3, 5, requires_grad=True)\n",
        "target = torch.randn(3, 5)\n",
        "mse_loss = nn.MSELoss()\n",
        "output = mse_loss(input, target)\n",
        "output.backward()\n",
        "\n",
        "print('input: ', input)\n",
        "print('target: ', target)\n",
        "print('output: ', output)"
      ],
      "metadata": {
        "colab": {
          "base_uri": "https://localhost:8080/"
        },
        "id": "57rlc-1OtpZG",
        "outputId": "eafca50f-388f-4b20-f36a-efd8ba57e787"
      },
      "execution_count": null,
      "outputs": [
        {
          "output_type": "stream",
          "name": "stdout",
          "text": [
            "input:  tensor([[-0.4512,  0.6758, -1.0131,  0.6446,  0.3487],\n",
            "        [ 1.1349, -0.2693,  0.5275, -0.3044,  0.9145],\n",
            "        [-1.7465, -2.4173,  0.0467, -1.8930,  2.0731]], requires_grad=True)\n",
            "target:  tensor([[-0.9319, -0.4922,  0.9159, -0.7672,  0.5755],\n",
            "        [ 1.4404, -1.2256,  0.2466, -1.2183, -0.1078],\n",
            "        [ 1.1309,  0.7673, -1.0692, -0.1028, -0.1102]])\n",
            "output:  tensor(2.5311, grad_fn=<MseLossBackward0>)\n"
          ]
        }
      ]
    },
    {
      "cell_type": "markdown",
      "source": [
        "### Negative Log-Likelihood Loss Function"
      ],
      "metadata": {
        "id": "cc6SuUmKubh2"
      }
    },
    {
      "cell_type": "code",
      "source": [
        "torch.nn.NLLLoss"
      ],
      "metadata": {
        "id": "zyFETuO4tpW5"
      },
      "execution_count": null,
      "outputs": []
    },
    {
      "cell_type": "markdown",
      "source": [
        "The Negative Log-Likelihood Loss function (NLL) is applied only on models with the softmax function as an output activation layer. Softmax refers to an activation function that calculates the normalized exponential function of every unit in the layer.\n",
        "\n",
        "The Softmax function is expressed as:\n",
        "\n",
        "$ S(f_{y_i}) =  \\frac{e^{f_{y_i}}}{\\sum_j e^{f_j}}$\n",
        "\n",
        "The function takes an input vector of size N, and then modifies the values such that every one of them falls between 0 and 1. Furthermore, it normalizes the output such that the sum of the N values of the vector equals to 1.\n",
        "\n",
        "NLL uses a negative connotation since the probabilities (or likelihoods) vary between zero and one, and the logarithms of values in this range are negative. In the end, the loss value becomes positive.\n",
        "\n",
        "In NLL, minimizing the loss function assists us get a better output. The negative log likelihood is retrieved from approximating the maximum likelihood estimation (MLE). This means that we try to maximize the model’s log likelihood, and as a result, minimize the NLL.  \n",
        "\n",
        "In NLL, the model is punished for making the correct prediction with smaller probabilities and encouraged for making the prediction with higher probabilities. The logarithm does the punishment.\n",
        "\n",
        "NLL does not only care about the prediction being correct but also about the model being certain about the prediction with a high score.\n",
        "\n",
        "The Pytorch NLL Loss is expressed as:\n",
        "\n",
        "$l(x,y) = L = \\{ l_1, ..., l_N \\}^T,  \\text{where, } l_n = -w_{y_n}x_{n,y_n}$\n",
        "\n",
        "where x is the input, y is the target, w is the weight, and N is the batch size.\n",
        "\n",
        "**When could it be used?**\n",
        "\n",
        "Multi-class classification problems"
      ],
      "metadata": {
        "id": "iKh3Q7H1ui0_"
      }
    },
    {
      "cell_type": "code",
      "source": [
        "import torch\n",
        "import torch.nn as nn\n",
        "\n",
        "# size of input (N x C) is = 3 x 5\n",
        "input = torch.randn(3, 5, requires_grad=True)\n",
        "# every element in target should have 0 <= value < C\n",
        "target = torch.tensor([1, 0, 4])\n",
        "\n",
        "m = nn.LogSoftmax(dim=1)\n",
        "nll_loss = nn.NLLLoss()\n",
        "output = nll_loss(m(input), target)\n",
        "output.backward()\n",
        "\n",
        "print('input: ', input)\n",
        "print('target: ', target)\n",
        "print('output: ', output)"
      ],
      "metadata": {
        "colab": {
          "base_uri": "https://localhost:8080/"
        },
        "id": "Wf8IzK-ttpSq",
        "outputId": "7bd55327-1076-4856-b94d-939a6010efba"
      },
      "execution_count": null,
      "outputs": [
        {
          "output_type": "stream",
          "name": "stdout",
          "text": [
            "input:  tensor([[ 0.0132, -0.1125, -2.0759, -0.4357,  0.5559],\n",
            "        [-1.1852,  2.0827,  0.7145,  1.0918,  1.8291],\n",
            "        [-1.4014,  0.4532, -0.7389,  0.6811,  0.6603]], requires_grad=True)\n",
            "target:  tensor([1, 0, 4])\n",
            "output:  tensor(2.3083, grad_fn=<NllLossBackward0>)\n"
          ]
        }
      ]
    },
    {
      "cell_type": "markdown",
      "source": [
        "### Cross-Entropy Loss Function"
      ],
      "metadata": {
        "id": "dPn9gSeFvx4c"
      }
    },
    {
      "cell_type": "code",
      "source": [
        "torch.nn.CrossEntropyLoss"
      ],
      "metadata": {
        "id": "POawCKwSrHBO"
      },
      "execution_count": null,
      "outputs": []
    },
    {
      "cell_type": "markdown",
      "source": [
        "This loss function computes the difference between two probability distributions for a provided set of occurrences or random variables.\n",
        "\n",
        "It is used to work out a score that summarizes the average difference between the predicted values and the actual values. To enhance the accuracy of the model, you should try to minimize the score—the cross-entropy score is between 0 and 1, and a perfect value is 0.\n",
        "\n",
        "Other loss functions, like the squared loss, punish incorrect predictions. Cross-Entropy penalizes greatly for being very confident and wrong.\n",
        "\n",
        "Unlike the Negative Log-Likelihood Loss, which doesn’t punish based on prediction confidence, Cross-Entropy punishes incorrect but confident predictions, as well as correct but less confident predictions.\n",
        "\n",
        "The Cross-Entropy function has a wide range of variants, of which the most common type is the Binary Cross-Entropy (BCE). The BCE Loss is mainly used for binary classification models; that is, models having only 2 classes.\n",
        "\n",
        "The Pytorch Cross-Entropy Loss is expressed as:\n",
        "\n",
        "$l(x,y) = L = \\{ l_1, ..., l_N \\}^T, \\text{ where, } l_n = -w_{y_n} log(\\frac{exp(x_{n,y_n})}{\\sum_{c = 1}^{C} exp(x_{n,c})})$\n",
        "\n",
        "Where x is the input, y is the target, w is the weight, C is the number of classes, and N spans the mini-batch dimension.\n",
        "\n",
        "**When could it be used?**\n",
        "\n",
        "*  Binary classification tasks, for which it’s the default loss function in Pytorch.\n",
        "*  Creating confident models—the prediction will be accurate and with a higher probability."
      ],
      "metadata": {
        "id": "-K9xkr2nwEr_"
      }
    },
    {
      "cell_type": "code",
      "source": [
        "import torch\n",
        "import torch.nn as nn\n",
        "\n",
        "input = torch.randn(3, 5, requires_grad=True)\n",
        "target = torch.empty(3, dtype=torch.long).random_(5)\n",
        "\n",
        "cross_entropy_loss = nn.CrossEntropyLoss()\n",
        "output = cross_entropy_loss(input, target)\n",
        "output.backward()\n",
        "\n",
        "print('input: ', input)\n",
        "print('target: ', target)\n",
        "print('output: ', output)"
      ],
      "metadata": {
        "colab": {
          "base_uri": "https://localhost:8080/"
        },
        "id": "YO02LY_qrG-C",
        "outputId": "c2c0ad37-11fb-4ee1-901d-3ddcebf9997e"
      },
      "execution_count": null,
      "outputs": [
        {
          "output_type": "stream",
          "name": "stdout",
          "text": [
            "input:  tensor([[-0.5878, -1.5962, -0.1793,  0.0320, -0.7183],\n",
            "        [-1.6247, -1.1396, -1.6850,  2.5291, -0.7128],\n",
            "        [ 1.7734, -2.2105, -0.7921,  0.4079,  1.0357]], requires_grad=True)\n",
            "target:  tensor([1, 1, 0])\n",
            "output:  tensor(2.3651, grad_fn=<NllLossBackward0>)\n"
          ]
        }
      ]
    },
    {
      "cell_type": "markdown",
      "source": [
        "You can also explore some other loss functions such as:\n",
        "\n",
        "* Hinge Embedding Loss\n",
        "* Margin Ranking Loss\n",
        "* Triplet Margin Loss\n",
        "* Kullback-Leibler divergence\n",
        "\n",
        "from [this tutorial](https://neptune.ai/blog/pytorch-loss-functions)"
      ],
      "metadata": {
        "id": "48_Lb5XlxUUY"
      }
    },
    {
      "cell_type": "markdown",
      "source": [
        "## Creating a custom loss function"
      ],
      "metadata": {
        "id": "Z4TxiBxuxsMQ"
      }
    },
    {
      "cell_type": "markdown",
      "source": [
        "PyTorch lets you create your own custom loss functions to implement in your projects. Here’s how you can create your own simple Cross-Entropy Loss function."
      ],
      "metadata": {
        "id": "pHcOiE_rx6o-"
      }
    },
    {
      "cell_type": "markdown",
      "source": [
        "### Creating custom loss function as a python function"
      ],
      "metadata": {
        "id": "hiEdLE6Mx_Pg"
      }
    },
    {
      "cell_type": "code",
      "source": [
        "def myCustomLoss(my_outputs, my_labels):\n",
        "    #specifying the batch size\n",
        "    my_batch_size = my_outputs.size()[0]\n",
        "    #calculating the log of softmax values\n",
        "    my_outputs = F.log_softmax(my_outputs, dim=1)\n",
        "    #selecting the values that correspond to labels\n",
        "    my_outputs = my_outputs[range(my_batch_size), my_labels]\n",
        "    #returning the results\n",
        "    return -torch.sum(my_outputs)/number_examples"
      ],
      "metadata": {
        "id": "QBV6KJUrxUFG"
      },
      "execution_count": null,
      "outputs": []
    },
    {
      "cell_type": "markdown",
      "source": [
        "### Creating custom loss function with a class definition"
      ],
      "metadata": {
        "id": "LJdzi8_oyLft"
      }
    },
    {
      "cell_type": "markdown",
      "source": [
        "Let’s modify the Dice coefficient, which computes the similarity between two samples, to act as a loss function for binary classification problems:"
      ],
      "metadata": {
        "id": "YJ8qz-v0yP7N"
      }
    },
    {
      "cell_type": "code",
      "source": [
        "class DiceLoss(nn.Module):\n",
        "    def __init__(self, weight=None, size_average=True):\n",
        "        super(DiceLoss, self).__init__()\n",
        "\n",
        "    def forward(self, inputs, targets, smooth=1):\n",
        "\n",
        "        inputs = F.sigmoid(inputs)\n",
        "\n",
        "        inputs = inputs.view(-1)\n",
        "        targets = targets.view(-1)\n",
        "\n",
        "        intersection = (inputs * targets).sum()\n",
        "        dice = (2.*intersection + smooth)/(inputs.sum() + targets.sum() + smooth)\n",
        "\n",
        "        return 1 - dice"
      ],
      "metadata": {
        "id": "5Pok46ZFyNjy"
      },
      "execution_count": null,
      "outputs": []
    },
    {
      "cell_type": "markdown",
      "source": [
        "# Building a Simple Single Layer Neural Network in PyTorch"
      ],
      "metadata": {
        "id": "VBt2RXU85FB0"
      }
    },
    {
      "cell_type": "markdown",
      "source": [
        "This tutorial is adapted from the blog post by Muhammad Asad Iqbal Khan a on [Machine Learning Mastery](https://machinelearningmastery.com/building-a-single-layer-neural-network-in-pytorch/)"
      ],
      "metadata": {
        "id": "hbgYBHVl5lEi"
      }
    },
    {
      "cell_type": "markdown",
      "source": [
        "##Preparing the Data"
      ],
      "metadata": {
        "id": "JucIPfMq5UH3"
      }
    },
    {
      "cell_type": "markdown",
      "source": [
        "A neural network simply a function that approximates other functions with some parameters. Let’s build some data and see how our single layer neural network approximates the function to make the data linearly separable. Later in this tutorial, you will visualize the function during training to see how the approximated function overlaps over the given set of data points."
      ],
      "metadata": {
        "id": "ZWjkubmL51PD"
      }
    },
    {
      "cell_type": "code",
      "source": [
        "import torch\n",
        "import matplotlib.pyplot as plt\n",
        "\n",
        "# generate synthetic the data\n",
        "X = torch.arange(-30, 30, 1).view(-1, 1).type(torch.FloatTensor)\n",
        "Y = torch.zeros(X.shape[0])\n",
        "Y[(X[:, 0] <= -10)] = 1.0\n",
        "Y[(X[:, 0] > -10) & (X[:, 0] < 10)] = 0.5\n",
        "Y[(X[:, 0] > 10)] = 0"
      ],
      "metadata": {
        "id": "hksueQ7PxUBz"
      },
      "execution_count": null,
      "outputs": []
    },
    {
      "cell_type": "code",
      "source": [
        "...\n",
        "plt.plot(X, Y)\n",
        "plt.show()"
      ],
      "metadata": {
        "colab": {
          "base_uri": "https://localhost:8080/",
          "height": 430
        },
        "id": "BFmwxTPTxT8W",
        "outputId": "f9208760-da91-4d5c-f969-44ae9b161ab9"
      },
      "execution_count": null,
      "outputs": [
        {
          "output_type": "display_data",
          "data": {
            "text/plain": [
              "<Figure size 640x480 with 1 Axes>"
            ],
            "image/png": "[encoded data removed]"
          },
          "metadata": {}
        }
      ]
    },
    {
      "cell_type": "markdown",
      "source": [
        "## Build the Model with nn.Module"
      ],
      "metadata": {
        "id": "jfZFroqL6D3K"
      }
    },
    {
      "cell_type": "markdown",
      "source": [
        "Next, let’s build our custom module for single layer neural network with nn.Module.\n",
        "\n",
        "This neural network features an input layer, a hidden layer with two neurons, and an output layer. After each layer, a sigmoid activation function is applied. Other kind of activation functions are available in PyTorch but the classic design for this network is to use sigmoid function.\n",
        "\n",
        "Here is how your single layer neural network looks like in code."
      ],
      "metadata": {
        "id": "lHZpUaJN6lmE"
      }
    },
    {
      "cell_type": "code",
      "source": [
        "# Define the class for single layer NN\n",
        "class one_layer_net(torch.nn.Module):\n",
        "    # Constructor\n",
        "    def __init__(self, input_size, hidden_neurons, output_size):\n",
        "        super(one_layer_net, self).__init__()\n",
        "        # hidden layer\n",
        "        self.linear_one = torch.nn.Linear(input_size, hidden_neurons)\n",
        "        self.linear_two = torch.nn.Linear(hidden_neurons, output_size)\n",
        "        # defining layers as attributes\n",
        "        self.layer_in = None\n",
        "        self.act = None\n",
        "        self.layer_out = None\n",
        "    # prediction function\n",
        "    def forward(self, x):\n",
        "        self.layer_in = self.linear_one(x)\n",
        "        self.act = torch.sigmoid(self.layer_in)\n",
        "        self.layer_out = self.linear_two(self.act)\n",
        "        y_pred = torch.sigmoid(self.linear_two(self.act))\n",
        "        return y_pred"
      ],
      "metadata": {
        "id": "5wtA4-xY6np3"
      },
      "execution_count": null,
      "outputs": []
    },
    {
      "cell_type": "markdown",
      "source": [
        "Let’s also instantiate a model object."
      ],
      "metadata": {
        "id": "fnbZU6fn6vLk"
      }
    },
    {
      "cell_type": "code",
      "source": [
        "# create the model\n",
        "model = one_layer_net(1, 2, 1)  # 2 represents two neurons in one hidden layer"
      ],
      "metadata": {
        "id": "a2FDostIfbTh"
      },
      "execution_count": null,
      "outputs": []
    },
    {
      "cell_type": "markdown",
      "source": [
        "## Train the Model"
      ],
      "metadata": {
        "id": "LhjOmPV169Ze"
      }
    },
    {
      "cell_type": "markdown",
      "source": [
        "Before starting the training loop, let’s define loss function and optimizer for the model. You will write a loss function for the cross entropy loss and use stochastic gradient descent for parameter optimization. **We will discuss about optimizer in the next class.**"
      ],
      "metadata": {
        "id": "IYKDaC-u7C5P"
      }
    },
    {
      "cell_type": "code",
      "source": [
        "def criterion(y_pred, y):\n",
        "    out = -1 * torch.mean(y * torch.log(y_pred) + (1 - y) * torch.log(1 - y_pred))\n",
        "    return out\n",
        "optimizer = torch.optim.SGD(model.parameters(), lr=0.01)"
      ],
      "metadata": {
        "id": "gO-zrySu7Clu"
      },
      "execution_count": null,
      "outputs": []
    },
    {
      "cell_type": "markdown",
      "source": [
        "Now you have all components to train the model. Let’s train the model for 5000 epochs. You will see a plot of how the neural network approximates the function after every 1000 epochs."
      ],
      "metadata": {
        "id": "ZUCg2a8r7LQs"
      }
    },
    {
      "cell_type": "code",
      "source": [
        "# Define the training loop\n",
        "epochs=5000\n",
        "cost = []\n",
        "total=0\n",
        "for epoch in range(epochs):\n",
        "    total=0\n",
        "    epoch = epoch + 1\n",
        "    for x, y in zip(X, Y):\n",
        "        yhat = model(x)\n",
        "        loss = criterion(yhat, y)\n",
        "        loss.backward()\n",
        "        optimizer.step()\n",
        "        optimizer.zero_grad()\n",
        "        # get total loss\n",
        "        total+=loss.item()\n",
        "    cost.append(total)\n",
        "    if epoch % 1000 == 0:\n",
        "        print(str(epoch)+ \" \" + \"epochs done!\") # visualze results after every 1000 epochs\n",
        "        # plot the result of function approximator\n",
        "        plt.plot(X.numpy(), model(X).detach().numpy())\n",
        "        plt.plot(X.numpy(), Y.numpy(), 'm')\n",
        "        plt.xlabel('x')\n",
        "        plt.show()"
      ],
      "metadata": {
        "id": "hygzzpw_cOLN",
        "colab": {
          "base_uri": "https://localhost:8080/",
          "height": 1000
        },
        "outputId": "32d97a63-b42b-4a02-da5a-759db730562e"
      },
      "execution_count": null,
      "outputs": [
        {
          "output_type": "stream",
          "name": "stdout",
          "text": [
            "1000 epochs done!\n"
          ]
        },
        {
          "output_type": "display_data",
          "data": {
            "text/plain": [
              "<Figure size 640x480 with 1 Axes>"
            ],
            "image/png": "[encoded data removed]"
          },
          "metadata": {}
        },
        {
          "output_type": "stream",
          "name": "stdout",
          "text": [
            "2000 epochs done!\n"
          ]
        },
        {
          "output_type": "display_data",
          "data": {
            "text/plain": [
              "<Figure size 640x480 with 1 Axes>"
            ],
            "image/png": "[encoded data removed]"
          },
          "metadata": {}
        },
        {
          "output_type": "stream",
          "name": "stdout",
          "text": [
            "3000 epochs done!\n"
          ]
        },
        {
          "output_type": "display_data",
          "data": {
            "text/plain": [
              "<Figure size 640x480 with 1 Axes>"
            ],
            "image/png": "[encoded data removed]"
          },
          "metadata": {}
        },
        {
          "output_type": "stream",
          "name": "stdout",
          "text": [
            "4000 epochs done!\n"
          ]
        },
        {
          "output_type": "display_data",
          "data": {
            "text/plain": [
              "<Figure size 640x480 with 1 Axes>"
            ],
            "image/png": "[encoded data removed]"
          },
          "metadata": {}
        },
        {
          "output_type": "stream",
          "name": "stdout",
          "text": [
            "5000 epochs done!\n"
          ]
        },
        {
          "output_type": "display_data",
          "data": {
            "text/plain": [
              "<Figure size 640x480 with 1 Axes>"
            ],
            "image/png": "[encoded data removed]"
          },
          "metadata": {}
        }
      ]
    },
    {
      "cell_type": "markdown",
      "source": [
        "From which, you can see the approximation in blue is closer to the data in purple. As you can see, the neural network approximates the functions quite nicely. If the function is more complex, you may need more hidden layers or more neurons in the hidden layer, i.e., a more complex model.\n",
        "\n",
        "Let’s also plot to see how the loss reduced during training."
      ],
      "metadata": {
        "id": "fdVf6GKI7TUb"
      }
    },
    {
      "cell_type": "code",
      "source": [
        "# plot the cost\n",
        "plt.plot(cost)\n",
        "plt.xlabel('epochs')\n",
        "plt.title('cross entropy loss')\n",
        "plt.show()"
      ],
      "metadata": {
        "id": "ulJm8Pkd5hQD",
        "colab": {
          "base_uri": "https://localhost:8080/",
          "height": 472
        },
        "outputId": "ff819eae-83ab-4511-de17-918d25355577"
      },
      "execution_count": null,
      "outputs": [
        {
          "output_type": "display_data",
          "data": {
            "text/plain": [
              "<Figure size 640x480 with 1 Axes>"
            ],
            "image/png": "[encoded data removed]"
          },
          "metadata": {}
        }
      ]
    }
  ]
}